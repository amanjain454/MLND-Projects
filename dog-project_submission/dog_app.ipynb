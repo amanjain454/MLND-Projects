{
 "cells": [
  {
   "cell_type": "markdown",
   "metadata": {},
   "source": [
    "# Artificial Intelligence Nanodegree\n",
    "\n",
    "## Convolutional Neural Networks\n",
    "\n",
    "## Project: Write an Algorithm for a Dog Identification App \n",
    "\n",
    "---\n",
    "\n",
    "In this notebook, some template code has already been provided for you, and you will need to implement additional functionality to successfully complete this project. You will not need to modify the included code beyond what is requested. Sections that begin with **'(IMPLEMENTATION)'** in the header indicate that the following block of code will require additional functionality which you must provide. Instructions will be provided for each section, and the specifics of the implementation are marked in the code block with a 'TODO' statement. Please be sure to read the instructions carefully! \n",
    "\n",
    "> **Note**: Once you have completed all of the code implementations, you need to finalize your work by exporting the iPython Notebook as an HTML document. Before exporting the notebook to html, all of the code cells need to have been run so that reviewers can see the final implementation and output. You can then export the notebook by using the menu above and navigating to  \\n\",\n",
    "    \"**File -> Download as -> HTML (.html)**. Include the finished document along with this notebook as your submission.\n",
    "\n",
    "In addition to implementing code, there will be questions that you must answer which relate to the project and your implementation. Each section where you will answer a question is preceded by a **'Question X'** header. Carefully read each question and provide thorough answers in the following text boxes that begin with **'Answer:'**. Your project submission will be evaluated based on your answers to each of the questions and the implementation you provide.\n",
    "\n",
    ">**Note:** Code and Markdown cells can be executed using the **Shift + Enter** keyboard shortcut.  Markdown cells can be edited by double-clicking the cell to enter edit mode.\n",
    "\n",
    "The rubric contains _optional_ \"Stand Out Suggestions\" for enhancing the project beyond the minimum requirements. If you decide to pursue the \"Stand Out Suggestions\", you should include the code in this IPython notebook.\n",
    "\n",
    "\n",
    "\n",
    "---\n",
    "### Why We're Here \n",
    "\n",
    "In this notebook, you will make the first steps towards developing an algorithm that could be used as part of a mobile or web app.  At the end of this project, your code will accept any user-supplied image as input.  If a dog is detected in the image, it will provide an estimate of the dog's breed.  If a human is detected, it will provide an estimate of the dog breed that is most resembling.  The image below displays potential sample output of your finished project (... but we expect that each student's algorithm will behave differently!). \n",
    "\n",
    "![Sample Dog Output](images/sample_dog_output.png)\n",
    "\n",
    "In this real-world setting, you will need to piece together a series of models to perform different tasks; for instance, the algorithm that detects humans in an image will be different from the CNN that infers dog breed.  There are many points of possible failure, and no perfect algorithm exists.  Your imperfect solution will nonetheless create a fun user experience!\n",
    "\n",
    "### The Road Ahead\n",
    "\n",
    "We break the notebook into separate steps.  Feel free to use the links below to navigate the notebook.\n",
    "\n",
    "* [Step 0](#step0): Import Datasets\n",
    "* [Step 1](#step1): Detect Humans\n",
    "* [Step 2](#step2): Detect Dogs\n",
    "* [Step 3](#step3): Create a CNN to Classify Dog Breeds (from Scratch)\n",
    "* [Step 4](#step4): Use a CNN to Classify Dog Breeds (using Transfer Learning)\n",
    "* [Step 5](#step5): Create a CNN to Classify Dog Breeds (using Transfer Learning)\n",
    "* [Step 6](#step6): Write your Algorithm\n",
    "* [Step 7](#step7): Test Your Algorithm\n",
    "\n",
    "---\n",
    "<a id='step0'></a>\n",
    "## Step 0: Import Datasets\n",
    "\n",
    "### Import Dog Dataset\n",
    "\n",
    "In the code cell below, we import a dataset of dog images.  We populate a few variables through the use of the `load_files` function from the scikit-learn library:\n",
    "- `train_files`, `valid_files`, `test_files` - numpy arrays containing file paths to images\n",
    "- `train_targets`, `valid_targets`, `test_targets` - numpy arrays containing onehot-encoded classification labels \n",
    "- `dog_names` - list of string-valued dog breed names for translating labels"
   ]
  },
  {
   "cell_type": "code",
   "execution_count": null,
   "metadata": {
    "collapsed": true
   },
   "outputs": [],
   "source": [
    "from sklearn.datasets import load_files       \n",
    "from keras.utils import np_utils\n",
    "import numpy as np\n",
    "from glob import glob\n",
    "\n",
    "# define function to load train, test, and validation datasets\n",
    "def load_dataset(path):\n",
    "    data = load_files(path)\n",
    "    dog_files = np.array(data['filenames'])\n",
    "    dog_targets = np_utils.to_categorical(np.array(data['target']), 133)\n",
    "    return dog_files, dog_targets\n",
    "\n",
    "# load train, test, and validation datasets\n",
    "train_files, train_targets = load_dataset('dogImages/train')\n",
    "valid_files, valid_targets = load_dataset('dogImages/valid')\n",
    "test_files, test_targets = load_dataset('dogImages/test')\n",
    "\n",
    "# load list of dog names\n",
    "dog_names = [item[20:-1] for item in sorted(glob(\"dogImages/train/*/\"))]\n",
    "\n",
    "# print statistics about the dataset\n",
    "print('There are %d total dog categories.' % len(dog_names))\n",
    "print('There are %s total dog images.\\n' % len(np.hstack([train_files, valid_files, test_files])))\n",
    "print('There are %d training dog images.' % len(train_files))\n",
    "print('There are %d validation dog images.' % len(valid_files))\n",
    "print('There are %d test dog images.'% len(test_files))\n",
    "\n",
    "#### Output of this block\n",
    "#-----\n",
    "#There are 133 total dog categories. \n",
    "#There are 8351 total dog images.\n",
    "#There are 6680 training dog images. \n",
    "#There are 835 validation dog images. \n",
    "#There are 836 test dog images.\n",
    "#-----\n",
    "####"
   ]
  },
  {
   "cell_type": "markdown",
   "metadata": {},
   "source": [
    "### Import Human Dataset\n",
    "\n",
    "In the code cell below, we import a dataset of human images, where the file paths are stored in the numpy array `human_files`."
   ]
  },
  {
   "cell_type": "code",
   "execution_count": null,
   "metadata": {
    "collapsed": true
   },
   "outputs": [],
   "source": [
    "import random\n",
    "random.seed(8675309)\n",
    "\n",
    "# load filenames in shuffled human dataset\n",
    "human_files = np.array(glob(\"lfw/*/*\"))\n",
    "random.shuffle(human_files)\n",
    "\n",
    "# print statistics about the dataset\n",
    "print('There are %d total human images.' % len(human_files))\n",
    "\n",
    "#### Output of this block\n",
    "#---\n",
    "#There are 13233 total human images.\n",
    "#---\n",
    "#### "
   ]
  },
  {
   "cell_type": "markdown",
   "metadata": {},
   "source": [
    "---\n",
    "<a id='step1'></a>\n",
    "## Step 1: Detect Humans\n",
    "\n",
    "We use OpenCV's implementation of [Haar feature-based cascade classifiers](http://docs.opencv.org/trunk/d7/d8b/tutorial_py_face_detection.html) to detect human faces in images.  OpenCV provides many pre-trained face detectors, stored as XML files on [github](https://github.com/opencv/opencv/tree/master/data/haarcascades).  We have downloaded one of these detectors and stored it in the `haarcascades` directory.\n",
    "\n",
    "In the next code cell, we demonstrate how to use this detector to find human faces in a sample image."
   ]
  },
  {
   "cell_type": "code",
   "execution_count": null,
   "metadata": {
    "collapsed": true
   },
   "outputs": [],
   "source": [
    "import cv2                \n",
    "import matplotlib.pyplot as plt                        \n",
    "%matplotlib inline                               \n",
    "\n",
    "# extract pre-trained face detector\n",
    "face_cascade = cv2.CascadeClassifier('haarcascades/haarcascade_frontalface_alt.xml')\n",
    "\n",
    "# load color (BGR) image\n",
    "img = cv2.imread(human_files[3])\n",
    "# convert BGR image to grayscale\n",
    "gray = cv2.cvtColor(img, cv2.COLOR_BGR2GRAY)\n",
    "\n",
    "# find faces in image\n",
    "faces = face_cascade.detectMultiScale(gray)\n",
    "\n",
    "# print number of faces detected in the image\n",
    "print('Number of faces detected:', len(faces))\n",
    "\n",
    "# get bounding box for each detected face\n",
    "for (x,y,w,h) in faces:\n",
    "    # add bounding box to color image\n",
    "    cv2.rectangle(img,(x,y),(x+w,y+h),(255,0,0),2)\n",
    "    \n",
    "# convert BGR image to RGB for plotting\n",
    "cv_rgb = cv2.cvtColor(img, cv2.COLOR_BGR2RGB)\n",
    "\n",
    "# display the image, along with bounding box\n",
    "plt.imshow(cv_rgb)\n",
    "plt.show()\n",
    "\n",
    "#### Output of this block\n",
    "#---\n",
    "#print number of faces detected in the image - ('Number of faces detected:', 1)\n",
    "#---\n",
    "#### "
   ]
  },
  {
   "cell_type": "markdown",
   "metadata": {},
   "source": [
    "Before using any of the face detectors, it is standard procedure to convert the images to grayscale.  The `detectMultiScale` function executes the classifier stored in `face_cascade` and takes the grayscale image as a parameter.  \n",
    "\n",
    "In the above code, `faces` is a numpy array of detected faces, where each row corresponds to a detected face.  Each detected face is a 1D array with four entries that specifies the bounding box of the detected face.  The first two entries in the array (extracted in the above code as `x` and `y`) specify the horizontal and vertical positions of the top left corner of the bounding box.  The last two entries in the array (extracted here as `w` and `h`) specify the width and height of the box.\n",
    "\n",
    "### Write a Human Face Detector\n",
    "\n",
    "We can use this procedure to write a function that returns `True` if a human face is detected in an image and `False` otherwise.  This function, aptly named `face_detector`, takes a string-valued file path to an image as input and appears in the code block below."
   ]
  },
  {
   "cell_type": "code",
   "execution_count": null,
   "metadata": {
    "collapsed": true
   },
   "outputs": [],
   "source": [
    "# returns \"True\" if face is detected in image stored at img_path\n",
    "def face_detector(img_path):\n",
    "    img = cv2.imread(img_path)\n",
    "    gray = cv2.cvtColor(img, cv2.COLOR_BGR2GRAY)\n",
    "    faces = face_cascade.detectMultiScale(gray)\n",
    "    return len(faces) > 0"
   ]
  },
  {
   "cell_type": "markdown",
   "metadata": {},
   "source": [
    "### (IMPLEMENTATION) Assess the Human Face Detector\n",
    "\n",
    "__Question 1:__ Use the code cell below to test the performance of the `face_detector` function.  \n",
    "- What percentage of the first 100 images in `human_files` have a detected human face?  \n",
    "- What percentage of the first 100 images in `dog_files` have a detected human face? \n",
    "\n",
    "Ideally, we would like 100% of human images with a detected face and 0% of dog images with a detected face.  You will see that our algorithm falls short of this goal, but still gives acceptable performance.  We extract the file paths for the first 100 images from each of the datasets and store them in the numpy arrays `human_files_short` and `dog_files_short`.\n",
    "\n",
    "__Answer:__ \n",
    "\n",
    "----\n",
    "\n",
    "98% of the humans were detected as humans!\n",
    "11% of the dogs were detected as humans\n",
    "\n",
    "----\n"
   ]
  },
  {
   "cell_type": "code",
   "execution_count": null,
   "metadata": {
    "collapsed": true
   },
   "outputs": [],
   "source": [
    "human_files_short = human_files[:100]\n",
    "dog_files_short = train_files[:100]\n",
    "# Do NOT modify the code above this line.\n",
    "\n",
    "## TODO: Test the performance of the face_detector algorithm \n",
    "## on the images in human_files_short and dog_files_short.\n",
    "\n",
    "human_count = 0\n",
    "for expected_human_image in human_files_short:\n",
    "    if face_detector(expected_human_image):\n",
    "        human_count = human_count + 1\n",
    "        \n",
    "dog_count = 0\n",
    "for expected_dog_image in dog_files_short:\n",
    "    if face_detector(expected_dog_image):\n",
    "        dog_count = dog_count + 1\n",
    "print(str(human_count) + \"% of the humans were detected as humans!\")\n",
    "print(str(dog_count) + \"% of the dogs were detected as humans\")\n",
    "\n",
    "#### Output of this block \n",
    "#----\n",
    "#98% of the humans were detected as humans!\n",
    "#11% of the dogs were detected as humans\n",
    "#----\n",
    "#### "
   ]
  },
  {
   "cell_type": "markdown",
   "metadata": {},
   "source": [
    "__Question 2:__ This algorithmic choice necessitates that we communicate to the user that we accept human images only when they provide a clear view of a face (otherwise, we risk having unneccessarily frustrated users!). In your opinion, is this a reasonable expectation to pose on the user? If not, can you think of a way to detect humans in images that does not necessitate an image with a clearly presented face?\n",
    "\n",
    "__Answer:__\n",
    "\n",
    "On the app UI we can provide a virtual box and should ask user to ensure that face should be fit within the box. This will help in three ways: \n",
    "\n",
    "1. It provides users guidance or Soft standardisation (in terms of size) of the inputs which will help in optimising the CNNs to learn efficiently. \n",
    "2. Unconscious communication to user that app expects One complete face to work upon.\n",
    "3. It helps in reducing the possibilities that a genuine user is thrown errors “Face is not captured properly” and resulting user frustuation and churn. \n",
    "\n",
    "Alternatively, we can use openCV libraries in real time to figure out if an image contains (http://docs.opencv.org/trunk/d7/d8b/tutorial_py_face_detection.html). \n",
    "\n",
    "\n",
    "\n",
    "We suggest the face detector from OpenCV as a potential way to detect human images in your algorithm, but you are free to explore other approaches, especially approaches that make use of deep learning :).  Please use the code cell below to design and test your own face detection algorithm.  If you decide to pursue this _optional_ task, report performance on each of the datasets."
   ]
  },
  {
   "cell_type": "code",
   "execution_count": null,
   "metadata": {
    "collapsed": true
   },
   "outputs": [],
   "source": [
    "## (Optional) TODO: Report the performance of another  \n",
    "## face detection algorithm on the LFW dataset\n",
    "### Feel free to use as many code cells as needed."
   ]
  },
  {
   "cell_type": "markdown",
   "metadata": {},
   "source": [
    "---\n",
    "<a id='step2'></a>\n",
    "## Step 2: Detect Dogs\n",
    "\n",
    "In this section, we use a pre-trained [ResNet-50](http://ethereon.github.io/netscope/#/gist/db945b393d40bfa26006) model to detect dogs in images.  Our first line of code downloads the ResNet-50 model, along with weights that have been trained on [ImageNet](http://www.image-net.org/), a very large, very popular dataset used for image classification and other vision tasks.  ImageNet contains over 10 million URLs, each linking to an image containing an object from one of [1000 categories](https://gist.github.com/yrevar/942d3a0ac09ec9e5eb3a).  Given an image, this pre-trained ResNet-50 model returns a prediction (derived from the available categories in ImageNet) for the object that is contained in the image."
   ]
  },
  {
   "cell_type": "code",
   "execution_count": null,
   "metadata": {
    "collapsed": true
   },
   "outputs": [],
   "source": [
    "from keras.applications.resnet50 import ResNet50\n",
    "\n",
    "# define ResNet50 model\n",
    "ResNet50_model = ResNet50(weights='imagenet')"
   ]
  },
  {
   "cell_type": "markdown",
   "metadata": {},
   "source": [
    "### Pre-process the Data\n",
    "\n",
    "When using TensorFlow as backend, Keras CNNs require a 4D array (which we'll also refer to as a 4D tensor) as input, with shape\n",
    "\n",
    "$$\n",
    "(\\text{nb_samples}, \\text{rows}, \\text{columns}, \\text{channels}),\n",
    "$$\n",
    "\n",
    "where `nb_samples` corresponds to the total number of images (or samples), and `rows`, `columns`, and `channels` correspond to the number of rows, columns, and channels for each image, respectively.  \n",
    "\n",
    "The `path_to_tensor` function below takes a string-valued file path to a color image as input and returns a 4D tensor suitable for supplying to a Keras CNN.  The function first loads the image and resizes it to a square image that is $224 \\times 224$ pixels.  Next, the image is converted to an array, which is then resized to a 4D tensor.  In this case, since we are working with color images, each image has three channels.  Likewise, since we are processing a single image (or sample), the returned tensor will always have shape\n",
    "\n",
    "$$\n",
    "(1, 224, 224, 3).\n",
    "$$\n",
    "\n",
    "The `paths_to_tensor` function takes a numpy array of string-valued image paths as input and returns a 4D tensor with shape \n",
    "\n",
    "$$\n",
    "(\\text{nb_samples}, 224, 224, 3).\n",
    "$$\n",
    "\n",
    "Here, `nb_samples` is the number of samples, or number of images, in the supplied array of image paths.  It is best to think of `nb_samples` as the number of 3D tensors (where each 3D tensor corresponds to a different image) in your dataset!"
   ]
  },
  {
   "cell_type": "code",
   "execution_count": null,
   "metadata": {
    "collapsed": true
   },
   "outputs": [],
   "source": [
    "from keras.preprocessing import image                  \n",
    "from tqdm import tqdm\n",
    "\n",
    "def path_to_tensor(img_path):\n",
    "    # loads RGB image as PIL.Image.Image type\n",
    "    img = image.load_img(img_path, target_size=(224, 224))\n",
    "    # convert PIL.Image.Image type to 3D tensor with shape (224, 224, 3)\n",
    "    x = image.img_to_array(img)\n",
    "    # convert 3D tensor to 4D tensor with shape (1, 224, 224, 3) and return 4D tensor\n",
    "    return np.expand_dims(x, axis=0)\n",
    "\n",
    "def paths_to_tensor(img_paths):\n",
    "    list_of_tensors = [path_to_tensor(img_path) for img_path in tqdm(img_paths)]\n",
    "    return np.vstack(list_of_tensors)"
   ]
  },
  {
   "cell_type": "markdown",
   "metadata": {},
   "source": [
    "### Making Predictions with ResNet-50\n",
    "\n",
    "Getting the 4D tensor ready for ResNet-50, and for any other pre-trained model in Keras, requires some additional processing.  First, the RGB image is converted to BGR by reordering the channels.  All pre-trained models have the additional normalization step that the mean pixel (expressed in RGB as $[103.939, 116.779, 123.68]$ and calculated from all pixels in all images in ImageNet) must be subtracted from every pixel in each image.  This is implemented in the imported function `preprocess_input`.  If you're curious, you can check the code for `preprocess_input` [here](https://github.com/fchollet/keras/blob/master/keras/applications/imagenet_utils.py).\n",
    "\n",
    "Now that we have a way to format our image for supplying to ResNet-50, we are now ready to use the model to extract the predictions.  This is accomplished with the `predict` method, which returns an array whose $i$-th entry is the model's predicted probability that the image belongs to the $i$-th ImageNet category.  This is implemented in the `ResNet50_predict_labels` function below.\n",
    "\n",
    "By taking the argmax of the predicted probability vector, we obtain an integer corresponding to the model's predicted object class, which we can identify with an object category through the use of this [dictionary](https://gist.github.com/yrevar/942d3a0ac09ec9e5eb3a). "
   ]
  },
  {
   "cell_type": "code",
   "execution_count": null,
   "metadata": {
    "collapsed": true
   },
   "outputs": [],
   "source": [
    "from keras.applications.resnet50 import preprocess_input, decode_predictions\n",
    "\n",
    "def ResNet50_predict_labels(img_path):\n",
    "    # returns prediction vector for image located at img_path\n",
    "    img = preprocess_input(path_to_tensor(img_path))\n",
    "    return np.argmax(ResNet50_model.predict(img))"
   ]
  },
  {
   "cell_type": "markdown",
   "metadata": {},
   "source": [
    "### Write a Dog Detector\n",
    "\n",
    "While looking at the [dictionary](https://gist.github.com/yrevar/942d3a0ac09ec9e5eb3a), you will notice that the categories corresponding to dogs appear in an uninterrupted sequence and correspond to dictionary keys 151-268, inclusive, to include all categories from `'Chihuahua'` to `'Mexican hairless'`.  Thus, in order to check to see if an image is predicted to contain a dog by the pre-trained ResNet-50 model, we need only check if the `ResNet50_predict_labels` function above returns a value between 151 and 268 (inclusive).\n",
    "\n",
    "We use these ideas to complete the `dog_detector` function below, which returns `True` if a dog is detected in an image (and `False` if not)."
   ]
  },
  {
   "cell_type": "code",
   "execution_count": null,
   "metadata": {
    "collapsed": true
   },
   "outputs": [],
   "source": [
    "### returns \"True\" if a dog is detected in the image stored at img_path\n",
    "def dog_detector(img_path):\n",
    "    prediction = ResNet50_predict_labels(img_path)\n",
    "    return ((prediction <= 268) & (prediction >= 151)) "
   ]
  },
  {
   "cell_type": "markdown",
   "metadata": {},
   "source": [
    "### (IMPLEMENTATION) Assess the Dog Detector\n",
    "\n",
    "__Question 3:__ Use the code cell below to test the performance of your `dog_detector` function.  \n",
    "- What percentage of the images in `human_files_short` have a detected dog?  \n",
    "- What percentage of the images in `dog_files_short` have a detected dog?\n",
    "\n",
    "__Answer:__ \n",
    "\n",
    "No code execution output to be published from question 1 until now. \n",
    "\n",
    "-----\n",
    "1% of the humans were detected as dogs\n",
    "100% of the dogs were detected as dogs!\n",
    "\n",
    "-----"
   ]
  },
  {
   "cell_type": "code",
   "execution_count": null,
   "metadata": {
    "collapsed": true
   },
   "outputs": [],
   "source": [
    "### TODO: Test the performance of the dog_detector function\n",
    "### on the images in human_files_short and dog_files_short.\n",
    "human_count = 0\n",
    "for expected_human_image in human_files_short:\n",
    "    if dog_detector(expected_human_image):\n",
    "        human_count = human_count + 1\n",
    "        \n",
    "dog_count = 0\n",
    "for expected_dog_image in dog_files_short:\n",
    "    if dog_detector(expected_dog_image):\n",
    "        dog_count = dog_count + 1\n",
    "        \n",
    "print(str(human_count) + \"% of the humans were detected as dogs\")\n",
    "print(str(dog_count) + \"% of the dogs were detected as dogs!\")\n",
    "\n",
    "#### Output of this block\n",
    "#----\n",
    "#1% of the humans were detected as dogs\n",
    "#100% of the dogs were detected as dogs!\n",
    "#----\n",
    "####"
   ]
  },
  {
   "cell_type": "markdown",
   "metadata": {},
   "source": [
    "---\n",
    "<a id='step3'></a>\n",
    "## Step 3: Create a CNN to Classify Dog Breeds (from Scratch)\n",
    "\n",
    "Now that we have functions for detecting humans and dogs in images, we need a way to predict breed from images.  In this step, you will create a CNN that classifies dog breeds.  You must create your CNN _from scratch_ (so, you can't use transfer learning _yet_!), and you must attain a test accuracy of at least 1%.  In Step 5 of this notebook, you will have the opportunity to use transfer learning to create a CNN that attains greatly improved accuracy.\n",
    "\n",
    "Be careful with adding too many trainable layers!  More parameters means longer training, which means you are more likely to need a GPU to accelerate the training process.  Thankfully, Keras provides a handy estimate of the time that each epoch is likely to take; you can extrapolate this estimate to figure out how long it will take for your algorithm to train. \n",
    "\n",
    "We mention that the task of assigning breed to dogs from images is considered exceptionally challenging.  To see why, consider that *even a human* would have great difficulty in distinguishing between a Brittany and a Welsh Springer Spaniel.  \n",
    "\n",
    "Brittany | Welsh Springer Spaniel\n",
    "- | - \n",
    "<img src=\"images/Brittany_02625.jpg\" width=\"100\"> | <img src=\"images/Welsh_springer_spaniel_08203.jpg\" width=\"200\">\n",
    "\n",
    "It is not difficult to find other dog breed pairs with minimal inter-class variation (for instance, Curly-Coated Retrievers and American Water Spaniels).  \n",
    "\n",
    "Curly-Coated Retriever | American Water Spaniel\n",
    "- | -\n",
    "<img src=\"images/Curly-coated_retriever_03896.jpg\" width=\"200\"> | <img src=\"images/American_water_spaniel_00648.jpg\" width=\"200\">\n",
    "\n",
    "\n",
    "Likewise, recall that labradors come in yellow, chocolate, and black.  Your vision-based algorithm will have to conquer this high intra-class variation to determine how to classify all of these different shades as the same breed.  \n",
    "\n",
    "Yellow Labrador | Chocolate Labrador | Black Labrador\n",
    "- | -\n",
    "<img src=\"images/Labrador_retriever_06457.jpg\" width=\"150\"> | <img src=\"images/Labrador_retriever_06455.jpg\" width=\"240\"> | <img src=\"images/Labrador_retriever_06449.jpg\" width=\"220\">\n",
    "\n",
    "We also mention that random chance presents an exceptionally low bar: setting aside the fact that the classes are slightly imabalanced, a random guess will provide a correct answer roughly 1 in 133 times, which corresponds to an accuracy of less than 1%.  \n",
    "\n",
    "Remember that the practice is far ahead of the theory in deep learning.  Experiment with many different architectures, and trust your intuition.  And, of course, have fun! \n",
    "\n",
    "### Pre-process the Data\n",
    "\n",
    "We rescale the images by dividing every pixel in every image by 255."
   ]
  },
  {
   "cell_type": "code",
   "execution_count": null,
   "metadata": {
    "collapsed": true
   },
   "outputs": [],
   "source": [
    "from PIL import ImageFile                            \n",
    "ImageFile.LOAD_TRUNCATED_IMAGES = True                 \n",
    "\n",
    "# pre-process the data for Keras\n",
    "train_tensors = paths_to_tensor(train_files).astype('float32')/255\n",
    "valid_tensors = paths_to_tensor(valid_files).astype('float32')/255\n",
    "test_tensors = paths_to_tensor(test_files).astype('float32')/255\n",
    "\n",
    "#### Output of this code block ####\n",
    "# 100%|██████████| 6680/6680 [04:02<00:00, 27.55it/s]\n",
    "# 100%|██████████| 835/835 [00:34<00:00, 24.23it/s]\n",
    "# 100%|██████████| 836/836 [00:25<00:00, 32.56it/s]\n",
    "####"
   ]
  },
  {
   "cell_type": "markdown",
   "metadata": {},
   "source": [
    "### (IMPLEMENTATION) Model Architecture\n",
    "\n",
    "Create a CNN to classify dog breed.  At the end of your code cell block, summarize the layers of your model by executing the line:\n",
    "    \n",
    "        model.summary()\n",
    "\n",
    "We have imported some Python modules to get you started, but feel free to import as many modules as you need.  If you end up getting stuck, here's a hint that specifies a model that trains relatively fast on CPU and attains >1% test accuracy in 5 epochs:\n",
    "\n",
    "![Sample CNN](images/sample_cnn.png)\n",
    "           \n",
    "__Question 4:__ Outline the steps you took to get to your final CNN architecture and your reasoning at each step.  If you chose to use the hinted architecture above, describe why you think that CNN architecture should work well for the image classification task.\n",
    "\n",
    "__Answer:__ \n",
    "\n",
    "Why CNN architecture work well for images: \n",
    "\n",
    "Convolution layers capture the neighbour of an element. So near by pixels get togeter to explain overall features. In the 1st Convolution layers algorithm obtains the the low level features like edges etc. For the 2nd conv layer, the input is the feature map from the first layer. So each layer of the input is basically describing the locations of low level features in the original image. Now when you apply a set of filters on top of that (pass it through the 2nd conv layer), the output will be activations that represent higher level features. So, two edges can come together to represent an square etc. Other high level patters semicircles or triangles starts emerging. \n",
    "\n",
    "As you go through the network and go through more conv layers, you get activation maps that represent more and more complex features and an image eventually. For a colored image, CNN are easily scalable by breaking down images into 3-D vectors (from RGB). \n",
    "\n",
    "\n",
    "High Level Summary: \n",
    "\n",
    "The idea of having multiple layers of CNN was to extract the features from the images. To do this, the filters were halfed in each conv layer. There are max pooling layers between them to reduce the size. There were also dropout layers to prevent overfitting and ensure sufficient learning. A relu function was used in the dense layer, and then, for the output, a softmax since it's the best for classification.\n",
    "\n",
    "Detailed Summary:\n",
    "\n",
    "The Sequential model is used. it is basically linear stack of multiple layers. We can create a Sequential model by defining list of layer instances. \n",
    "\n",
    "Convolution layers:\n",
    "\n",
    "The first layer in a CNN is always a Convolutional Layer. The model needs to be told expected size of input in first layer. Other layers in the model can infer size from the previous layers and other parameters (like striding etc.) Hence, a an input_shape tuple argument input_shape=((224, 224, 3)) is passed to the first layer. \n",
    "Convolution layer puts in filters (here we are using 2*2 filter - please see below section for explanaiton for filter size) to extract features from an image. Convolution layer (after multiplying with filter) deploys a activation functions to create a feature map.   \n",
    "\n",
    "Pooling layers:\n",
    "Pooling layers are used in tandem to convolution layers to to reduce variance and to reduce computation complexity. At the same time it and extract low level features from neighbourhood. \n",
    "\n",
    "3 set of Conolution and Pooling: \n",
    "\n",
    "First convolution layer determines the high level featues like edges and curves. To obtian high level features like eyes, body shape, nose we need to go deeper. However, if we go too deep information will become too dilute for network to train. Hence a depth of 3 is taken for the convolution. \n",
    "\n",
    "Dropout layers \n",
    "Dropout is a technique where randomly selected neurons are ignored randomly during training. This means that their contribution to the activation of downstream neurons is temporally removed on the forward pass and any weight updates are not applied to the neuron on the backward pass. This is important to avoid overfitting and provide an opportunity to the lower weights nodes to contribute. \n",
    "\n",
    "Flatten layer\n",
    "If we need to do classification, we would need to use dense layer as last layer. Fully connected layers can not take any (spatial or otherwise) into account for processing. Output of a CNN is a 3-D array preserving spatial information (nearby pixels preserves spatial informaiton). so we treat output of the last convolution layers as a large piece of unstructured data.\n",
    "\n",
    "Dense layer\n",
    "2 dense layers are used - with a dropout layer in between these. In a dense layer, every node in the layer is connected to every node in the preceding layer - hence fully connected. Size of Last dense layer is equal to the number of classes (133 dog breeds in this case). Size reduction (from flatter layer to 133) is done is two steps to preserve information. Last dense layer used softmax activation to help produce a probabilistic distribution among candidate clsses (breeds). \n",
    "\n",
    "\n",
    "Other key decisions for the parameters: \n",
    "\n",
    "1. Activation method: \n",
    "\n",
    "Rectified linear units (\"ReLU\") activation method is used for all, but the last layer. One major benefit of using \"RELU\" is the reduced likelihood of the gradient to vanish unlike in the sigmoid function where gradient reduces to very small number as absolute value of x increases. The other benefit of ReLUs is sparsity. Sparsity arises when a≤0. The more such units that exist in a layer the more sparse the resulting representation. Sigmoids on the other hand are always likely to dense representations. Sparse representations seem to be more scalable and beneficial than dense representations.\n",
    "\n",
    "Last layer of a CNN model is generally a softmax activation layer. The ReLUs will not vanish the effect during your training process. However, when you want to deal with classification problems, they cannot help much. Simply speaking, the sigmoid function or (\"ReLU\") can only handle two classes, which is not what we expect (dog breeds are much more than two). \n",
    "\n",
    "2. Pooling method to use? pool size?\n",
    "Max pooling extracts the most important features like edges whereas, average pooling extracts features so smoothly. For image data - I think max pooling is better for extracting the extreme features.\n",
    "\n",
    "Pool size of 2*2 pooling reduces 75% data. A higher pooling size we run risk of loosing information. \n",
    "\n",
    "3. Nnumber of Conv2D layers\n",
    "why 3 number?\n",
    "Be careful with adding too many trainable layers! More parameters means longer training, which means you are more likely to need a GPU to accelerate the training process.\n",
    "\n",
    "4. Kernal / filter size \n",
    "Its a trade off between speed and accuracy. For the given model, with filter size of 2*2 for all layers, model training time for each epoch was around 9-10 minutes (ETA: 550-560 seconds). This is not a large time that warrants a a negotiation for the accuracy - hence i decided to keep filter size at 2*2.\n",
    "\n",
    "5. Drop out probability\n",
    "In thi example with close to 22 million parameters in dense_1 layer, we can safely use higher drop out probabilities of 30%-50%.\n",
    "\n",
    "\n",
    " \n",
    "\n",
    "Model summary: \n",
    "\n",
    "Layer (type)                     Output Shape          Param #     Connected to                     \n",
    "convolution2d_1 (Convolution2D)  (None, 223, 223, 16)  208         convolution2d_input_1[0][0]      \n",
    "\n",
    "maxpooling2d_2 (MaxPooling2D)    (None, 111, 111, 16)  0           convolution2d_1[0][0]            \n",
    "\n",
    "convolution2d_2 (Convolution2D)  (None, 110, 110, 32)  2080        maxpooling2d_2[0][0]             \n",
    "\n",
    "maxpooling2d_3 (MaxPooling2D)    (None, 55, 55, 32)    0           convolution2d_2[0][0]            \n",
    "\n",
    "convolution2d_3 (Convolution2D)  (None, 54, 54, 64)    8256        maxpooling2d_3[0][0]             \n",
    "\n",
    "maxpooling2d_4 (MaxPooling2D)    (None, 27, 27, 64)    0           convolution2d_3[0][0]            \n",
    "\n",
    "dropout_1 (Dropout)              (None, 27, 27, 64)    0           maxpooling2d_4[0][0]             \n",
    "\n",
    "flatten_2 (Flatten)              (None, 46656)         0           dropout_1[0][0]                  \n",
    "\n",
    "dense_1 (Dense)                  (None, 500)           23328500    flatten_2[0][0]                  \n",
    "\n",
    "dropout_2 (Dropout)              (None, 500)           0           dense_1[0][0]                    \n",
    "\n",
    "dense_2 (Dense)                  (None, 133)           66633       dropout_2[0][0]                  \n",
    "\n",
    "Trainable params: 23,405,677\n",
    "Non-trainable params: 0\n",
    "\n",
    "References: \n",
    "http://web.engr.illinois.edu/~slazebni/spring14/lec24_cnn.pdf\n",
    "https://adeshpande3.github.io/adeshpande3.github.io/The-9-Deep-Learning-Papers-You-Need-To-Know-About.html\n",
    "https://adeshpande3.github.io/adeshpande3.github.io/A-Beginner%27s-Guide-To-Understanding-Convolutional-Neural-Networks/\n",
    "https://www.topbots.com/14-design-patterns-improve-convolutional-neural-network-cnn-architecture/\n",
    "https://keras.io/getting-started/sequential-model-guide/\n",
    "https://stats.stackexchange.com/questions/126238/what-are-the-advantages-of-relu-over-sigmoid-function-in-deep-neural-networks\n",
    "https://www.quora.com/What-is-the-benefit-of-using-average-pooling-rather-than-max-pooling\n",
    "https://stackoverflow.com/questions/41991337/optimal-dropout\n",
    "https://arxiv.org/pdf/1606.02228v2.pdf\n",
    "https://adeshpande3.github.io/adeshpande3.github.io/A-Beginner%27s-Guide-To-Understanding-Convolutional-Neural-Networks/\n",
    "https://www.tensorflow.org/tutorials/layers"
   ]
  },
  {
   "cell_type": "code",
   "execution_count": null,
   "metadata": {
    "collapsed": true
   },
   "outputs": [],
   "source": [
    "##TODO\n",
    "# CNN architechture \n",
    "# Note to evaluatior - Following code has been done for Keras 1.2.2 verison. In keras verison 2.0+ \n",
    "\n",
    "from keras.layers import Conv2D, MaxPooling2D, GlobalAveragePooling2D\n",
    "from keras.layers import Dropout, Flatten, Dense\n",
    "from keras.models import Sequential\n",
    "\n",
    "model = Sequential()\n",
    "model.add(Conv2D(16,2,2,activation='relu', \n",
    "                        input_shape=((224, 224, 3))))\n",
    "model.add(MaxPooling2D(pool_size=(2,2)))\n",
    "model.add(Conv2D(32,2,2,activation='relu'))\n",
    "model.add(MaxPooling2D(pool_size=(2,2)))\n",
    "model.add(Conv2D(64,2,2, activation='relu'))\n",
    "model.add(MaxPooling2D(pool_size=(2,2)))\n",
    "model.add(Dropout(0.3))\n",
    "model.add(Flatten())\n",
    "model.add(Dense(500, activation='relu'))\n",
    "model.add(Dropout(0.4))\n",
    "model.add(Dense(133, activation='softmax'))\n",
    "\n",
    "model.summary()"
   ]
  },
  {
   "cell_type": "markdown",
   "metadata": {},
   "source": [
    "### Compile the Model"
   ]
  },
  {
   "cell_type": "code",
   "execution_count": null,
   "metadata": {
    "collapsed": true
   },
   "outputs": [],
   "source": [
    "model.compile(optimizer='rmsprop', loss='categorical_crossentropy', metrics=['accuracy'])"
   ]
  },
  {
   "cell_type": "markdown",
   "metadata": {},
   "source": [
    "### (IMPLEMENTATION) Train the Model\n",
    "\n",
    "Train your model in the code cell below.  Use model checkpointing to save the model that attains the best validation loss.\n",
    "\n",
    "You are welcome to [augment the training data](https://blog.keras.io/building-powerful-image-classification-models-using-very-little-data.html), but this is not a requirement. "
   ]
  },
  {
   "cell_type": "code",
   "execution_count": null,
   "metadata": {
    "collapsed": true
   },
   "outputs": [],
   "source": [
    "from keras.callbacks import ModelCheckpoint  \n",
    "\n",
    "### TODO: specify the number of epochs that you would like to use to train the model.\n",
    "\n",
    "epochs = 5\n",
    "\n",
    "### Do NOT modify the code below this line.\n",
    "\n",
    "checkpointer = ModelCheckpoint(filepath='saved_models/weights.best.from_scratch.hdf5', \n",
    "                               verbose=1, save_best_only=True)\n",
    "\n",
    "model.fit(train_tensors, train_targets, \n",
    "          validation_data=(valid_tensors, valid_targets),\n",
    "          nb_epoch=epochs, batch_size=20, callbacks=[checkpointer], verbose=1)\n",
    "\n",
    "\n",
    "#### Output of training \n",
    "#-----\n",
    "#Train on 6680 samples, validate on 835 samples\n",
    "#Epoch 1/5\n",
    "#6660/6680 [============================>.] - ETA: 1s - loss: 4.8793 - acc: 0.0177       Epoch 00000: val_loss improved from inf to 4.58487, saving model to saved_models/weights.best.from_scratch.hdf5\n",
    "#6680/6680 [==============================] - 545s - loss: 4.8791 - acc: 0.0177 - val_loss: 4.5849 - val_acc: 0.0443\n",
    "#Epoch 2/5\n",
    "#6660/6680 [============================>.] - ETA: 1s - loss: 4.3611 - acc: 0.0595  Epoch 00001: val_loss improved from 4.58487 to 4.24696, saving model to saved_models/weights.best.from_scratch.hdf5\n",
    "#6680/6680 [==============================] - 455s - loss: 4.3610 - acc: 0.0593 - val_loss: 4.2470 - val_acc: 0.0743\n",
    "#Epoch 3/5\n",
    "#6660/6680 [============================>.] - ETA: 1s - loss: 3.7529 - acc: 0.1514      Epoch 00002: val_loss improved from 4.24696 to 4.17603, saving model to saved_models/weights.best.from_scratch.hdf5\n",
    "#6680/6680 [==============================] - 505s - loss: 3.7525 - acc: 0.1512 - val_loss: 4.1760 - val_acc: 0.1006\n",
    "#Epoch 4/5\n",
    "#6660/6680 [============================>.] - ETA: 1s - loss: 2.7235 - acc: 0.3520  Epoch 00003: val_loss did not improve\n",
    "#6680/6680 [==============================] - 465s - loss: 2.7232 - acc: 0.3516 - val_loss: 4.5032 - val_acc: 0.0958\n",
    "#Epoch 5/5\n",
    "#6660/6680 [============================>.] - ETA: 1s - loss: 1.6008 - acc: 0.6024  Epoch 00004: val_loss did not improve\n",
    "#6680/6680 [==============================] - 569s - loss: 1.6013 - acc: 0.6021 - val_loss: 5.3724 - val_acc: 0.0958\n",
    "#-----\n",
    "####\n"
   ]
  },
  {
   "cell_type": "markdown",
   "metadata": {},
   "source": [
    "### Load the Model with the Best Validation Loss"
   ]
  },
  {
   "cell_type": "code",
   "execution_count": null,
   "metadata": {
    "collapsed": true
   },
   "outputs": [],
   "source": [
    "model.load_weights('saved_models/weights.best.from_scratch.hdf5')"
   ]
  },
  {
   "cell_type": "markdown",
   "metadata": {},
   "source": [
    "### Test the Model\n",
    "\n",
    "Try out your model on the test dataset of dog images.  Ensure that your test accuracy is greater than 1%."
   ]
  },
  {
   "cell_type": "code",
   "execution_count": null,
   "metadata": {
    "collapsed": true
   },
   "outputs": [],
   "source": [
    "#Test the model \n",
    "# get index of predicted dog breed for each image in test set\n",
    "dog_breed_predictions = [np.argmax(model.predict(np.expand_dims(tensor, axis=0))) for tensor in test_tensors]\n",
    "\n",
    "# report test accuracy\n",
    "test_accuracy = 100*np.sum(np.array(dog_breed_predictions)==np.argmax(test_targets, axis=1))/len(dog_breed_predictions)\n",
    "print('Test accuracy: %.4f%%' % test_accuracy)\n",
    "\n",
    "#### Output of this section\n",
    "#---\n",
    "# Test accuracy: 9.0000%\n",
    "#\n",
    "# Trained model accuracy is 9% which satisfies the condition that \"Ensure that your test accuracy is greater than 1%\"\n",
    "#---\n",
    "####"
   ]
  },
  {
   "cell_type": "markdown",
   "metadata": {},
   "source": [
    "---\n",
    "<a id='step4'></a>\n",
    "## Step 4: Use a CNN to Classify Dog Breeds\n",
    "\n",
    "To reduce training time without sacrificing accuracy, we show you how to train a CNN using transfer learning.  In the following step, you will get a chance to use transfer learning to train your own CNN.\n",
    "\n",
    "### Obtain Bottleneck Features"
   ]
  },
  {
   "cell_type": "code",
   "execution_count": null,
   "metadata": {
    "collapsed": true
   },
   "outputs": [],
   "source": [
    "##Obtain Bottleneck features\n",
    "bottleneck_features = np.load('bottleneck_features/DogVGG16Data.npz')\n",
    "train_VGG16 = bottleneck_features['train']\n",
    "valid_VGG16 = bottleneck_features['valid']\n",
    "test_VGG16 = bottleneck_features['test']"
   ]
  },
  {
   "cell_type": "markdown",
   "metadata": {},
   "source": [
    "### Model Architecture\n",
    "\n",
    "The model uses the the pre-trained VGG-16 model as a fixed feature extractor, where the last convolutional output of VGG-16 is fed as input to our model.  We only add a global average pooling layer and a fully connected layer, where the latter contains one node for each dog category and is equipped with a softmax."
   ]
  },
  {
   "cell_type": "code",
   "execution_count": null,
   "metadata": {
    "collapsed": true
   },
   "outputs": [],
   "source": [
    "VGG16_model = Sequential()\n",
    "VGG16_model.add(GlobalAveragePooling2D(input_shape=train_VGG16.shape[1:]))\n",
    "VGG16_model.add(Dense(133, activation='softmax'))\n",
    "\n",
    "VGG16_model.summary()\n",
    "\n",
    "#### Output of this section\n",
    "#---\n",
    "#____________________________________________________________________________________________________\n",
    "#Layer (type)                     Output Shape          Param #     Connected to                     \n",
    "#====================================================================================================\n",
    "#globalaveragepooling2d_1 (Global (None, 512)           0           globalaveragepooling2d_input_1[0]\n",
    "#____________________________________________________________________________________________________\n",
    "#dense_3 (Dense)                  (None, 133)           68229       globalaveragepooling2d_1[0][0]   \n",
    "#====================================================================================================\n",
    "#Total params: 68,229\n",
    "#Trainable params: 68,229\n",
    "#Non-trainable params: 0\n",
    "#____________________________________________________________________________________________________\n",
    "#---\n",
    "####"
   ]
  },
  {
   "cell_type": "markdown",
   "metadata": {},
   "source": [
    "### Compile the Model"
   ]
  },
  {
   "cell_type": "code",
   "execution_count": null,
   "metadata": {
    "collapsed": true
   },
   "outputs": [],
   "source": [
    "VGG16_model.compile(loss='categorical_crossentropy', optimizer='rmsprop', metrics=['accuracy'])"
   ]
  },
  {
   "cell_type": "markdown",
   "metadata": {},
   "source": [
    "### Train the Model"
   ]
  },
  {
   "cell_type": "code",
   "execution_count": null,
   "metadata": {
    "collapsed": true
   },
   "outputs": [],
   "source": [
    "checkpointer = ModelCheckpoint(filepath='saved_models/weights.best.VGG16.hdf5', \n",
    "                               verbose=1, save_best_only=True)\n",
    "\n",
    "VGG16_model.fit(train_VGG16, train_targets, \n",
    "          validation_data=(valid_VGG16, valid_targets),\n",
    "          nb_epoch=20, batch_size=20, callbacks=[checkpointer], verbose=1)\n",
    "\n",
    "#### Output of this section\n",
    "#---\n",
    "#Train on 6680 samples, validate on 835 samples\n",
    "#Epoch 1/20\n",
    "#6620/6680 [============================>.] - ETA: 0s - loss: 12.2270 - acc: 0.1189      Epoch 00000: val_loss improved from inf to 10.69091, saving model to saved_models/weights.best.VGG16.hdf5\n",
    "#6680/6680 [==============================] - 5s - loss: 12.2193 - acc: 0.1193 - val_loss: 10.6909 - val_acc: 0.2120\n",
    "#Epoch 2/20\n",
    "#6620/6680 [============================>.] - ETA: 0s - loss: 10.0105 - acc: 0.2816Epoch 00001: val_loss improved from 10.69091 to 10.03765, saving model to saved_models/weights.best.VGG16.hdf5\n",
    "#6680/6680 [==============================] - 2s - loss: 10.0231 - acc: 0.2813 - val_loss: 10.0376 - val_acc: 0.2814\n",
    "#Epoch 3/20\n",
    "#6500/6680 [============================>.] - ETA: 0s - loss: 9.5151 - acc: 0.3443Epoch 00002: val_loss improved from 10.03765 to 9.86755, saving model to saved_models/weights.best.VGG16.hdf5\n",
    "#6680/6680 [==============================] - 2s - loss: 9.5019 - acc: 0.3446 - val_loss: 9.8675 - val_acc: 0.3018\n",
    "#Epoch 4/20\n",
    "#6620/6680 [============================>.] - ETA: 0s - loss: 9.2912 - acc: 0.3773Epoch 00003: val_loss improved from 9.86755 to 9.75346, saving model to saved_models/weights.best.VGG16.hdf5\n",
    "#6680/6680 [==============================] - 2s - loss: 9.2992 - acc: 0.3769 - val_loss: 9.7535 - val_acc: 0.3138\n",
    "#Epoch 5/20\n",
    "#6500/6680 [============================>.] - ETA: 0s - loss: 9.1270 - acc: 0.3977Epoch 00004: val_loss improved from 9.75346 to 9.49013, saving model to saved_models/weights.best.VGG16.hdf5\n",
    "#6680/6680 [==============================] - 2s - loss: 9.1283 - acc: 0.3973 - val_loss: 9.4901 - val_acc: 0.3246\n",
    "#Epoch 6/20\n",
    "#6540/6680 [============================>.] - ETA: 0s - loss: 8.8759 - acc: 0.4177 Epoch 00005: val_loss improved from 9.49013 to 9.30975, saving model to saved_models/weights.best.VGG16.hdf5\n",
    "#6680/6680 [==============================] - 1s - loss: 8.8514 - acc: 0.4190 - val_loss: 9.3097 - val_acc: 0.3569\n",
    "#Epoch 7/20\n",
    "#6600/6680 [============================>.] - ETA: 0s - loss: 8.6612 - acc: 0.4355Epoch 00006: val_loss improved from 9.30975 to 9.18377, saving model to saved_models/weights.best.VGG16.hdf5\n",
    "#6680/6680 [==============================] - 1s - loss: 8.6682 - acc: 0.4349 - val_loss: 9.1838 - val_acc: 0.3581\n",
    "#Epoch 8/20\n",
    "#6580/6680 [============================>.] - ETA: 0s - loss: 8.5462 - acc: 0.4500Epoch 00007: val_loss improved from 9.18377 to 9.06152, saving model to saved_models/weights.best.VGG16.hdf5\n",
    "#6680/6680 [==============================] - 1s - loss: 8.5400 - acc: 0.4503 - val_loss: 9.0615 - val_acc: 0.3557\n",
    "#Epoch 9/20\n",
    "#6600/6680 [============================>.] - ETA: 0s - loss: 8.3994 - acc: 0.4623 Epoch 00008: val_loss improved from 9.06152 to 8.94871, saving model to saved_models/weights.best.VGG16.hdf5\n",
    "#6680/6680 [==============================] - 1s - loss: 8.3789 - acc: 0.4635 - val_loss: 8.9487 - val_acc: 0.3737\n",
    "#Epoch 10/20\n",
    "#6560/6680 [============================>.] - ETA: 0s - loss: 8.2931 - acc: 0.4684Epoch 00009: val_loss improved from 8.94871 to 8.79203, saving model to saved_models/weights.best.VGG16.hdf5\n",
    "#6680/6680 [==============================] - 1s - loss: 8.2760 - acc: 0.4695 - val_loss: 8.7920 - val_acc: 0.3880\n",
    "#Epoch 11/20\n",
    "#6520/6680 [============================>.] - ETA: 0s - loss: 8.1567 - acc: 0.4810Epoch 00010: val_loss improved from 8.79203 to 8.74466, saving model to saved_models/weights.best.VGG16.hdf5\n",
    "#6680/6680 [==============================] - 2s - loss: 8.1549 - acc: 0.4813 - val_loss: 8.7447 - val_acc: 0.3832\n",
    "#Epoch 12/20\n",
    "#6600/6680 [============================>.] - ETA: 0s - loss: 8.0790 - acc: 0.4905 Epoch 00011: val_loss did not improve\n",
    "#6680/6680 [==============================] - 1s - loss: 8.0986 - acc: 0.4891 - val_loss: 8.7766 - val_acc: 0.3820\n",
    "#Epoch 13/20\n",
    "#6660/6680 [============================>.] - ETA: 0s - loss: 8.0567 - acc: 0.4911Epoch 00012: val_loss improved from 8.74466 to 8.65963, saving model to saved_models/weights.best.VGG16.hdf5\n",
    "#6680/6680 [==============================] - 1s - loss: 8.0567 - acc: 0.4912 - val_loss: 8.6596 - val_acc: 0.4012\n",
    "#Epoch 14/20\n",
    "#6500/6680 [============================>.] - ETA: 0s - loss: 7.9631 - acc: 0.4985Epoch 00013: val_loss improved from 8.65963 to 8.59466, saving model to saved_models/weights.best.VGG16.hdf5\n",
    "#6680/6680 [==============================] - 1s - loss: 7.9809 - acc: 0.4973 - val_loss: 8.5947 - val_acc: 0.4132\n",
    "#Epoch 15/20\n",
    "#6600/6680 [============================>.] - ETA: 0s - loss: 7.9316 - acc: 0.4988Epoch 00014: val_loss did not improve\n",
    "#6680/6680 [==============================] - 1s - loss: 7.9437 - acc: 0.4981 - val_loss: 8.5991 - val_acc: 0.3940\n",
    "#Epoch 16/20\n",
    "#6500/6680 [============================>.] - ETA: 0s - loss: 7.7399 - acc: 0.4986Epoch 00015: val_loss improved from 8.59466 to 8.30391, saving model to saved_models/weights.best.VGG16.hdf5\n",
    "#6680/6680 [==============================] - 1s - loss: 7.7145 - acc: 0.5001 - val_loss: 8.3039 - val_acc: 0.4156\n",
    "#Epoch 17/20\n",
    "#6500/6680 [============================>.] - ETA: 0s - loss: 7.5967 - acc: 0.5186Epoch 00016: val_loss did not improve\n",
    "#6680/6680 [==============================] - 1s - loss: 7.5998 - acc: 0.5187 - val_loss: 8.4394 - val_acc: 0.4132\n",
    "#Epoch 18/20\n",
    "#6480/6680 [============================>.] - ETA: 0s - loss: 7.5221 - acc: 0.5213Epoch 00017: val_loss improved from 8.30391 to 8.23424, saving model to saved_models/weights.best.VGG16.hdf5\n",
    "#6680/6680 [==============================] - 1s - loss: 7.5320 - acc: 0.5202 - val_loss: 8.2342 - val_acc: 0.4180\n",
    "#Epoch 19/20\n",
    "#6660/6680 [============================>.] - ETA: 0s - loss: 7.3925 - acc: 0.5291Epoch 00018: val_loss improved from 8.23424 to 8.14524, saving model to saved_models/weights.best.VGG16.hdf5\n",
    "#6680/6680 [==============================] - 1s - loss: 7.3993 - acc: 0.5287 - val_loss: 8.1452 - val_acc: 0.4204\n",
    "#Epoch 20/20\n",
    "#6540/6680 [============================>.] - ETA: 0s - loss: 7.3407 - acc: 0.5361 Epoch 00019: val_loss improved from 8.14524 to 8.13370, saving model to saved_models/weights.best.VGG16.hdf5\n",
    "#6680/6680 [==============================] - 1s - loss: 7.3515 - acc: 0.5355 - val_loss: 8.1337 - val_acc: 0.4263\n",
    "#---\n",
    "####"
   ]
  },
  {
   "cell_type": "markdown",
   "metadata": {},
   "source": [
    "### Load the Model with the Best Validation Loss"
   ]
  },
  {
   "cell_type": "code",
   "execution_count": null,
   "metadata": {
    "collapsed": true
   },
   "outputs": [],
   "source": [
    "VGG16_model.load_weights('saved_models/weights.best.VGG16.hdf5')"
   ]
  },
  {
   "cell_type": "markdown",
   "metadata": {},
   "source": [
    "### Test the Model\n",
    "\n",
    "Now, we can use the CNN to test how well it identifies breed within our test dataset of dog images.  We print the test accuracy below."
   ]
  },
  {
   "cell_type": "code",
   "execution_count": null,
   "metadata": {
    "collapsed": true
   },
   "outputs": [],
   "source": [
    "# get index of predicted dog breed for each image in test set\n",
    "VGG16_predictions = [np.argmax(VGG16_model.predict(np.expand_dims(feature, axis=0))) for feature in test_VGG16]\n",
    "\n",
    "# report test accuracy\n",
    "test_accuracy = 100*np.sum(np.array(VGG16_predictions)==np.argmax(test_targets, axis=1))/len(VGG16_predictions)\n",
    "print('Test accuracy: %.4f%%' % test_accuracy)\n",
    "\n",
    "#### Output of this section\n",
    "#---\n",
    "#Test accuracy: 43.0000%\n",
    "#---\n",
    "####"
   ]
  },
  {
   "cell_type": "markdown",
   "metadata": {},
   "source": [
    "### Predict Dog Breed with the Model"
   ]
  },
  {
   "cell_type": "code",
   "execution_count": null,
   "metadata": {
    "collapsed": true
   },
   "outputs": [],
   "source": [
    "from extract_bottleneck_features import *\n",
    "\n",
    "def VGG16_predict_breed(img_path):\n",
    "    # extract bottleneck features\n",
    "    bottleneck_feature = extract_VGG16(path_to_tensor(img_path))\n",
    "    # obtain predicted vector\n",
    "    predicted_vector = VGG16_model.predict(bottleneck_feature)\n",
    "    # return dog breed that is predicted by the model\n",
    "    return dog_names[np.argmax(predicted_vector)]"
   ]
  },
  {
   "cell_type": "markdown",
   "metadata": {},
   "source": [
    "---\n",
    "<a id='step5'></a>\n",
    "## Step 5: Create a CNN to Classify Dog Breeds (using Transfer Learning)\n",
    "\n",
    "You will now use transfer learning to create a CNN that can identify dog breed from images.  Your CNN must attain at least 60% accuracy on the test set.\n",
    "\n",
    "In Step 4, we used transfer learning to create a CNN using VGG-16 bottleneck features.  In this section, you must use the bottleneck features from a different pre-trained model.  To make things easier for you, we have pre-computed the features for all of the networks that are currently available in Keras:\n",
    "- [VGG-19](https://s3-us-west-1.amazonaws.com/udacity-aind/dog-project/DogVGG19Data.npz) bottleneck features\n",
    "- [ResNet-50](https://s3-us-west-1.amazonaws.com/udacity-aind/dog-project/DogResnet50Data.npz) bottleneck features\n",
    "- [Inception](https://s3-us-west-1.amazonaws.com/udacity-aind/dog-project/DogInceptionV3Data.npz) bottleneck features\n",
    "- [Xception](https://s3-us-west-1.amazonaws.com/udacity-aind/dog-project/DogXceptionData.npz) bottleneck features\n",
    "\n",
    "The files are encoded as such:\n",
    "\n",
    "    Dog{network}Data.npz\n",
    "    \n",
    "where `{network}`, in the above filename, can be one of `VGG19`, `Resnet50`, `InceptionV3`, or `Xception`.  Pick one of the above architectures, download the corresponding bottleneck features, and store the downloaded file in the `bottleneck_features/` folder in the repository.\n",
    "\n",
    "### (IMPLEMENTATION) Obtain Bottleneck Features\n",
    "\n",
    "In the code block below, extract the bottleneck features corresponding to the train, test, and validation sets by running the following:\n",
    "\n",
    "    bottleneck_features = np.load('bottleneck_features/Dog{network}Data.npz')\n",
    "    train_{network} = bottleneck_features['train']\n",
    "    valid_{network} = bottleneck_features['valid']\n",
    "    test_{network} = bottleneck_features['test']"
   ]
  },
  {
   "cell_type": "code",
   "execution_count": null,
   "metadata": {
    "collapsed": true
   },
   "outputs": [],
   "source": [
    "### TODO: Obtain bottleneck features from another pre-trained CNN.\n",
    "bottleneck_features = np.load('bottleneck_features/DogResnet50Data.npz')\n",
    "train_DogResnet50 = bottleneck_features['train']\n",
    "valid_DogResnet50 = bottleneck_features['valid']\n",
    "test_DogResnet50 = bottleneck_features['test']"
   ]
  },
  {
   "cell_type": "markdown",
   "metadata": {},
   "source": [
    "### (IMPLEMENTATION) Model Architecture\n",
    "\n",
    "Create a CNN to classify dog breed.  At the end of your code cell block, summarize the layers of your model by executing the line:\n",
    "    \n",
    "        <your model's name>.summary()\n",
    "   \n",
    "__Question 5:__ Outline the steps you took to get to your final CNN architecture and your reasoning at each step.  Describe why you think the architecture is suitable for the current problem.\n",
    "\n",
    "__Answer:__ \n",
    "\n",
    "Deep neural networks has a huge number of parameters, often in the range of millions (22 millions in our build from scratch model). Training a CNN on a small dataset (We had only 6680 training images for dogs as compared to 22 million parameters) greatly affects the Covnet’s ability to generalize. \n",
    "\n",
    "Alternatively we can fine-tune existing networks (Resnet 50 in this case) that are trained on a large dataset (millions of RGB type general images) by continue training it (i.e. running back-propagation) on the smaller dataset we have. Provided that our dataset is not drastically different in context to the original dataset (e.g. Resnet 50), the pre-trained model will already have learned features that are relevant to our own classification problem.\n",
    "\n",
    "We will only keep the convolutional part of the model, everything up to the fully-connected layers. Then we will train a small fully-connected model (using softmax activation function) on top of the stored features. I have used pooling layer to reduce the complexity.\n",
    "\n",
    "\n",
    "References: \n",
    "https://blog.keras.io/building-powerful-image-classification-models-using-very-little-data.html\n",
    "https://flyyufelix.github.io/2016/10/03/fine-tuning-in-keras-part1.html\n",
    "https://blog.keras.io/building-powerful-image-classification-models-using-very-little-data.html\n",
    "\n",
    "\n",
    "Model Summary: \n",
    "\n",
    "Layer (type)                     Output Shape          Param #     Connected to                     \n",
    "\n",
    "globalaveragepooling2d_2 (Global (None, 2048)          0           globalaveragepooling2d_input_2[0]\n",
    "\n",
    "dense_4 (Dense)                  (None, 133)           272517      globalaveragepooling2d_2[0][0]   \n",
    "\n",
    "Total params: 272,517\n",
    "Trainable params: 272,517\n",
    "Non-trainable params: 0\n",
    "____________________________________________________________________________________________________\n",
    "\n",
    "\n",
    "\n"
   ]
  },
  {
   "cell_type": "code",
   "execution_count": null,
   "metadata": {
    "collapsed": true
   },
   "outputs": [],
   "source": [
    "### TODO: Define your architecture.\n",
    "Resnet50_model = Sequential()\n",
    "Resnet50_model.add(GlobalAveragePooling2D(input_shape=train_DogResnet50.shape[1:]))\n",
    "Resnet50_model.add(Dense(133, activation='softmax'))\n",
    "\n",
    "Resnet50_model.summary()\n",
    "\n",
    "#### Output of this section\n",
    "#---\n",
    "#____________________________________________________________________________________________________\n",
    "#Layer (type)                     Output Shape          Param #     Connected to                     \n",
    "#====================================================================================================\n",
    "#globalaveragepooling2d_2 (Global (None, 2048)          0           globalaveragepooling2d_input_2[0]\n",
    "#____________________________________________________________________________________________________\n",
    "#dense_4 (Dense)                  (None, 133)           272517      globalaveragepooling2d_2[0][0]   \n",
    "#====================================================================================================\n",
    "#Total params: 272,517\n",
    "#Trainable params: 272,517\n",
    "#Non-trainable params: 0\n",
    "#____________________________________________________________________________________________________\n",
    "#---\n",
    "####"
   ]
  },
  {
   "cell_type": "markdown",
   "metadata": {},
   "source": [
    "### (IMPLEMENTATION) Compile the Model"
   ]
  },
  {
   "cell_type": "code",
   "execution_count": null,
   "metadata": {
    "collapsed": true
   },
   "outputs": [],
   "source": [
    "### TODO: Compile the model.\n",
    "Resnet50_model.compile(loss='categorical_crossentropy', optimizer='rmsprop', metrics=['accuracy'])"
   ]
  },
  {
   "cell_type": "markdown",
   "metadata": {},
   "source": [
    "### (IMPLEMENTATION) Train the Model\n",
    "\n",
    "Train your model in the code cell below.  Use model checkpointing to save the model that attains the best validation loss.  \n",
    "\n",
    "You are welcome to [augment the training data](https://blog.keras.io/building-powerful-image-classification-models-using-very-little-data.html), but this is not a requirement. "
   ]
  },
  {
   "cell_type": "code",
   "execution_count": null,
   "metadata": {
    "collapsed": true
   },
   "outputs": [],
   "source": [
    "### TODO: Train the model.\n",
    "checkpointer = ModelCheckpoint(filepath='saved_models/weights.best.ResNet50.hdf5', \n",
    "                               verbose=1, save_best_only=True)\n",
    "\n",
    "Resnet50_model.fit(train_DogResnet50, train_targets, \n",
    "          validation_data=(valid_DogResnet50, valid_targets),\n",
    "          nb_epoch=20, batch_size=20, callbacks=[checkpointer], verbose=1)\n",
    "\n",
    "#### Output of this section\n",
    "#---\n",
    "#Train on 6680 samples, validate on 835 samples\n",
    "#Epoch 1/20\n",
    "#6560/6680 [============================>.] - ETA: 0s - loss: 1.6080 - acc: 0.6047      Epoch 00000: val_loss improved from inf to 0.78196, saving model to saved_models/weights.best.ResNet50.hdf5\n",
    "#6680/6680 [==============================] - 3s - loss: 1.5942 - acc: 0.6069 - val_loss: 0.7820 - val_acc: 0.7581\n",
    "#Epoch 2/20\n",
    "#6660/6680 [============================>.] - ETA: 0s - loss: 0.4357 - acc: 0.8689Epoch 00001: val_loss improved from 0.78196 to 0.62034, saving model to saved_models/weights.best.ResNet50.hdf5\n",
    "#6680/6680 [==============================] - 2s - loss: 0.4350 - acc: 0.8692 - val_loss: 0.6203 - val_acc: 0.8000\n",
    "#Epoch 3/20\n",
    "#6660/6680 [============================>.] - ETA: 0s - loss: 0.2595 - acc: 0.9186Epoch 00002: val_loss did not improve\n",
    "#6680/6680 [==============================] - 2s - loss: 0.2594 - acc: 0.9186 - val_loss: 0.7089 - val_acc: 0.7940\n",
    "#Epoch 4/20\n",
    "#6560/6680 [============================>.] - ETA: 0s - loss: 0.1784 - acc: 0.9466Epoch 00003: val_loss did not improve\n",
    "#6680/6680 [==============================] - 2s - loss: 0.1782 - acc: 0.9469 - val_loss: 0.6957 - val_acc: 0.7940\n",
    "#Epoch 5/20\n",
    "#6600/6680 [============================>.] - ETA: 0s - loss: 0.1211 - acc: 0.9620Epoch 00004: val_loss did not improve\n",
    "#6680/6680 [==============================] - 2s - loss: 0.1234 - acc: 0.9615 - val_loss: 0.7005 - val_acc: 0.7868\n",
    "#Epoch 6/20\n",
    "#6660/6680 [============================>.] - ETA: 0s - loss: 0.0932 - acc: 0.9712Epoch 00005: val_loss did not improve\n",
    "#6680/6680 [==============================] - 2s - loss: 0.0933 - acc: 0.9711 - val_loss: 0.7036 - val_acc: 0.8048\n",
    "#Epoch 7/20\n",
    "#6620/6680 [============================>.] - ETA: 0s - loss: 0.0634 - acc: 0.9808Epoch 00006: val_loss did not improve\n",
    "#6680/6680 [==============================] - 2s - loss: 0.0636 - acc: 0.9804 - val_loss: 0.7017 - val_acc: 0.8072\n",
    "#Epoch 8/20\n",
    "#6600/6680 [============================>.] - ETA: 0s - loss: 0.0488 - acc: 0.9864Epoch 00007: val_loss did not improve\n",
    "#6680/6680 [==============================] - 2s - loss: 0.0498 - acc: 0.9861 - val_loss: 0.6858 - val_acc: 0.8240\n",
    "#Epoch 9/20\n",
    "#6600/6680 [============================>.] - ETA: 0s - loss: 0.0364 - acc: 0.9897Epoch 00008: val_loss did not improve\n",
    "#6680/6680 [==============================] - 2s - loss: 0.0369 - acc: 0.9895 - val_loss: 0.7133 - val_acc: 0.8084\n",
    "#Epoch 10/20\n",
    "#6560/6680 [============================>.] - ETA: 0s - loss: 0.0286 - acc: 0.9931Epoch 00009: val_loss did not improve\n",
    "#6680/6680 [==============================] - 2s - loss: 0.0288 - acc: 0.9930 - val_loss: 0.7451 - val_acc: 0.8132\n",
    "#Epoch 11/20\n",
    "#6620/6680 [============================>.] - ETA: 0s - loss: 0.0209 - acc: 0.9952Epoch 00010: val_loss did not improve\n",
    "#6680/6680 [==============================] - 2s - loss: 0.0216 - acc: 0.9949 - val_loss: 0.7429 - val_acc: 0.8228\n",
    "#Epoch 12/20\n",
    "#6620/6680 [============================>.] - ETA: 0s - loss: 0.0189 - acc: 0.9953Epoch 00011: val_loss did not improve\n",
    "#6680/6680 [==============================] - 2s - loss: 0.0187 - acc: 0.9954 - val_loss: 0.8350 - val_acc: 0.8012\n",
    "#Epoch 13/20\n",
    "#6520/6680 [============================>.] - ETA: 0s - loss: 0.0164 - acc: 0.9960Epoch 00012: val_loss did not improve\n",
    "#6680/6680 [==============================] - 2s - loss: 0.0161 - acc: 0.9961 - val_loss: 0.8234 - val_acc: 0.8120\n",
    "#Epoch 14/20\n",
    "#6580/6680 [============================>.] - ETA: 0s - loss: 0.0128 - acc: 0.9970Epoch 00013: val_loss did not improve\n",
    "#6680/6680 [==============================] - 2s - loss: 0.0129 - acc: 0.9969 - val_loss: 0.8186 - val_acc: 0.8323\n",
    "#Epoch 15/20\n",
    "#6660/6680 [============================>.] - ETA: 0s - loss: 0.0117 - acc: 0.9971Epoch 00014: val_loss did not improve\n",
    "#6680/6680 [==============================] - 2s - loss: 0.0117 - acc: 0.9972 - val_loss: 0.8579 - val_acc: 0.8240\n",
    "#Epoch 16/20\n",
    "#6660/6680 [============================>.] - ETA: 0s - loss: 0.0084 - acc: 0.9980    Epoch 00015: val_loss did not improve\n",
    "#6680/6680 [==============================] - 2s - loss: 0.0084 - acc: 0.9981 - val_loss: 0.8399 - val_acc: 0.8335\n",
    "#Epoch 17/20\n",
    "#6660/6680 [============================>.] - ETA: 0s - loss: 0.0078 - acc: 0.9980    Epoch 00016: val_loss did not improve\n",
    "#6680/6680 [==============================] - 2s - loss: 0.0077 - acc: 0.9981 - val_loss: 0.8504 - val_acc: 0.8275\n",
    "#Epoch 18/20\n",
    "#6620/6680 [============================>.] - ETA: 0s - loss: 0.0072 - acc: 0.9980    Epoch 00017: val_loss did not improve\n",
    "#6680/6680 [==============================] - 2s - loss: 0.0072 - acc: 0.9981 - val_loss: 0.8493 - val_acc: 0.8263\n",
    "#Epoch 19/20\n",
    "#6520/6680 [============================>.] - ETA: 0s - loss: 0.0048 - acc: 0.9989    Epoch 00018: val_loss did not improve\n",
    "#6680/6680 [==============================] - 2s - loss: 0.0068 - acc: 0.9987 - val_loss: 0.8923 - val_acc: 0.8192\n",
    "#Epoch 20/20\n",
    "#6640/6680 [============================>.] - ETA: 0s - loss: 0.0061 - acc: 0.9983    Epoch 00019: val_loss did not improve\n",
    "#6680/6680 [==============================] - 2s - loss: 0.0061 - acc: 0.9984 - val_loss: 0.9085 - val_acc: 0.8287\n",
    "#---\n",
    "####"
   ]
  },
  {
   "cell_type": "markdown",
   "metadata": {},
   "source": [
    "### (IMPLEMENTATION) Load the Model with the Best Validation Loss"
   ]
  },
  {
   "cell_type": "code",
   "execution_count": null,
   "metadata": {
    "collapsed": true
   },
   "outputs": [],
   "source": [
    "### TODO: Load the model weights with the best validation loss.\n",
    "Resnet50_model.load_weights('saved_models/weights.best.ResNet50.hdf5')"
   ]
  },
  {
   "cell_type": "markdown",
   "metadata": {},
   "source": [
    "### (IMPLEMENTATION) Test the Model\n",
    "\n",
    "Try out your model on the test dataset of dog images. Ensure that your test accuracy is greater than 60%."
   ]
  },
  {
   "cell_type": "code",
   "execution_count": null,
   "metadata": {
    "collapsed": true
   },
   "outputs": [],
   "source": [
    "### Test the model \n",
    "### TODO: Calculate classification accuracy on the test dataset.\n",
    "Resnet50_predictions = [np.argmax(Resnet50_model.predict(np.expand_dims(feature, axis=0))) for feature in test_DogResnet50]\n",
    "\n",
    "# report test accuracy\n",
    "test_accuracy = 100*np.sum(np.array(Resnet50_predictions)==np.argmax(test_targets, axis=1))/len(Resnet50_predictions)\n",
    "print('Test accuracy: %.4f%%' % test_accuracy)\n",
    "\n",
    "#### Output of this section\n",
    "#---\n",
    "# Test accuracy: 79.0000%\n",
    "# Test accuracy is 79% which satisfies the criteria that \"Ensure that your test accuracy is greater than 60%.\"\n",
    "#---\n",
    "####"
   ]
  },
  {
   "cell_type": "markdown",
   "metadata": {},
   "source": [
    "### (IMPLEMENTATION) Predict Dog Breed with the Model\n",
    "\n",
    "Write a function that takes an image path as input and returns the dog breed (`Affenpinscher`, `Afghan_hound`, etc) that is predicted by your model.  \n",
    "\n",
    "Similar to the analogous function in Step 5, your function should have three steps:\n",
    "1. Extract the bottleneck features corresponding to the chosen CNN model.\n",
    "2. Supply the bottleneck features as input to the model to return the predicted vector.  Note that the argmax of this prediction vector gives the index of the predicted dog breed.\n",
    "3. Use the `dog_names` array defined in Step 0 of this notebook to return the corresponding breed.\n",
    "\n",
    "The functions to extract the bottleneck features can be found in `extract_bottleneck_features.py`, and they have been imported in an earlier code cell.  To obtain the bottleneck features corresponding to your chosen CNN architecture, you need to use the function\n",
    "\n",
    "    extract_{network}\n",
    "    \n",
    "where `{network}`, in the above filename, should be one of `VGG19`, `Resnet50`, `InceptionV3`, or `Xception`."
   ]
  },
  {
   "cell_type": "code",
   "execution_count": null,
   "metadata": {
    "collapsed": true
   },
   "outputs": [],
   "source": [
    "### TODO: Write a function that takes a path to an image as input\n",
    "### and returns the dog breed that is predicted by the model.\n",
    "def dog_breed(img_path):\n",
    "    # extract bottleneck features\n",
    "    bottleneck_feature = extract_Resnet50(path_to_tensor(img_path))\n",
    "    \n",
    "    # obtain predicted vector\n",
    "    predicted_vector = Resnet50_model.predict(bottleneck_feature)\n",
    "    \n",
    "    # return dog breed that is predicted by the model\n",
    "    return dog_names[np.argmax(predicted_vector)]"
   ]
  },
  {
   "cell_type": "markdown",
   "metadata": {},
   "source": [
    "---\n",
    "<a id='step6'></a>\n",
    "## Step 6: Write your Algorithm\n",
    "\n",
    "Write an algorithm that accepts a file path to an image and first determines whether the image contains a human, dog, or neither.  Then,\n",
    "- if a __dog__ is detected in the image, return the predicted breed.\n",
    "- if a __human__ is detected in the image, return the resembling dog breed.\n",
    "- if __neither__ is detected in the image, provide output that indicates an error.\n",
    "\n",
    "You are welcome to write your own functions for detecting humans and dogs in images, but feel free to use the `face_detector` and `dog_detector` functions developed above.  You are __required__ to use your CNN from Step 5 to predict dog breed.  \n",
    "\n",
    "Some sample output for our algorithm is provided below, but feel free to design your own user experience!\n",
    "\n",
    "![Sample Human Output](images/sample_human_output.png)\n",
    "\n",
    "\n",
    "### (IMPLEMENTATION) Write your Algorithm"
   ]
  },
  {
   "cell_type": "code",
   "execution_count": null,
   "metadata": {
    "collapsed": true
   },
   "outputs": [],
   "source": [
    "### TODO: Write your algorithm.\n",
    "### Feel free to use as many code cells as needed.\n",
    "\n",
    "def dog_breed_detector(img_path):\n",
    "    breed = dog_breed(img_path) \n",
    "    \n",
    "    # Display the image\n",
    "    img = cv2.imread(img_path)\n",
    "    cv_rgb = cv2.cvtColor(img, cv2.COLOR_BGR2RGB)\n",
    "    plt.imshow(cv_rgb)\n",
    "    plt.show()\n",
    "    \n",
    "    # Detect what it is\n",
    "    if face_detector(img_path):\n",
    "        print(\"That's a human, but it looks like a \" + str(breed))\n",
    "    elif dog_detector(img_path):\n",
    "        print(\"That's a dog. Breed: \" + str(breed))\n",
    "    else:\n",
    "        print(\"I can't detect anything!\")\n",
    "        "
   ]
  },
  {
   "cell_type": "markdown",
   "metadata": {},
   "source": [
    "---\n",
    "<a id='step7'></a>\n",
    "## Step 7: Test Your Algorithm\n",
    "\n",
    "In this section, you will take your new algorithm for a spin!  What kind of dog does the algorithm think that __you__ look like?  If you have a dog, does it predict your dog's breed accurately?  If you have a cat, does it mistakenly think that your cat is a dog?\n",
    "\n",
    "### (IMPLEMENTATION) Test Your Algorithm on Sample Images!\n",
    "\n",
    "Test your algorithm at least six images on your computer.  Feel free to use any images you like.  Use at least two human and two dog images.  \n",
    "\n",
    "__Question 6:__ Is the output better than you expected :) ?  Or worse :( ?  Provide at least three possible points of improvement for your algorithm.\n",
    "\n",
    "__Answer:__ \n",
    "\n",
    "Output: \n",
    "\n",
    "Image 1: \"That's a dog. Breed: Silky_terrier\"\n",
    "Right. Actually 3 dogs are present in the picture. Out of which 2 are silky terrier and one is austrialian terrier - which is very close to the silky terrier in looks. Algorithm identifies correctly that a dog is present in the picture. So, correct prediction.\n",
    "\n",
    "Image 2: \"That's a dog. Breed: Silky_terrier\". \n",
    "Wrong. Identifies correctly that a dog is present in the picture. Actual breed of dog is Austrailian terrier. So, wrong  prediction. But to be fair to algorithm, Silky_terrier and austrilian terrier are quite similar to confuse even human eyes. \n",
    "\n",
    "Image 3: \"That's a dog. Breed: Dachshund\"\n",
    "Wrong. It is actually a picture of european politician. Algorithm inaccurately does not recodnize human but instead wrongly predicts a dog. \n",
    "\n",
    "Image 4: \"That's a dog. Breed: Field_spaniel\"\n",
    "Right. Identifies correctly that a dog is present in the picture. Actual breed of dog is Field spaniel. So, correct prediction.\n",
    "\n",
    "Image 5: \"I can't detect anything!\" \n",
    "Wrong. It contains picture for both human and dog (both clear), algorithm could not find neither dog nor human. This was a set-back. as in algorithm we are checking for human first, I was expecting to pick up human face atleast. \n",
    "\n",
    "Image 6: \"That's a dog. Breed: Akita\". \n",
    "Right. Identifies correctly that a dog is present in the picture. Actual breed of dog is akita. So, correct prediction. \n",
    "\n",
    "Image 7: \"That's a human, but it looks like a Black_russian_terrier\".\n",
    "Right. It is actually a picture of hollywood celibrity. Algorithm identifies correctly that no dog is in the picture. Only one human face was present in the picture. Prediction of \"Black_russian_terrier\" may be driven by fact that human in the picture was wearing a balck suit. \n",
    "\n",
    "\n",
    "Reference: http://dogtime.com/dog-breeds/profiles\n",
    "\n",
    "Output is actually better than i expected. Out of 8 cases: \n",
    "- 1 case was a true setback where algorithm wrongly identifies a human face as a dog. \n",
    "- 1 case where there was a dog and human together - algo is not trained to handle such cases (we trained it only with clear images of one dog or one human). \n",
    "- 1 case case where algorithm was able to predict with decent accuracy a group of dogs - this was not expected actually. \n",
    "- Other cases algo predicts human and dog correctly - with correct breed also, in some cases a close enough breed. \n",
    "\n",
    "Three possible improvements in our algorithm: \n",
    "\n",
    "1. Model gets confused between two similar looking breeds (to be fair, so does me). Having a larger training and a deeper network set might help. \n",
    "2. We could have augmented training set by having rotated versions of training pictures. \n",
    "3. Running time (or response time) of the algorithm is not upto the mark to be used in profesisonal apps. Could we have some parallel network learning to reduce the response time ?\n",
    "\n",
    "￼"
   ]
  },
  {
   "cell_type": "code",
   "execution_count": null,
   "metadata": {
    "collapsed": true
   },
   "outputs": [],
   "source": [
    "## Load the cell\n",
    "sample_files = np.array(glob(\"sample_pictures_step7/*\"))\n",
    "print(sample_files)\n",
    "\n",
    "## testing for sample pictures \n",
    "for path in sample_files:\n",
    "    dog_breed_detector(path)\n",
    "    \n",
    "#### Output of this section\n",
    "#---\n",
    "#['sample_pictures_step7/1. multiple terriers .jpeg'\n",
    "# 'sample_pictures_step7/Austrailian terrier.jpg'\n",
    "# 'sample_pictures_step7/download (3).jpeg'\n",
    "# 'sample_pictures_step7/field-spaniel-dogs-puppies-3.jpg'\n",
    "# 'sample_pictures_step7/test_1.jpeg' 'sample_pictures_step7/test_2.jpeg'\n",
    "# 'sample_pictures_step7/test_3.jpeg' 'sample_pictures_step7/test_4.jpeg'\n",
    "# 'sample_pictures_step7/test_5.jpeg' 'sample_pictures_step7/test_6.png']\n",
    "#\n",
    "# <Image 1>\n",
    "# That's a dog. Breed: Silky_terrier\n",
    "#\n",
    "# <Image 2>\n",
    "# That's a dog. Breed: Silky_terrier\n",
    "#\n",
    "# <Image 3>\n",
    "# That's a dog. Breed: Dachshund\n",
    "#\n",
    "# <Image 4>\n",
    "# That's a dog. Breed: Field_spaniel\n",
    "#\n",
    "# <Image 5>\n",
    "# I can't detect anything!\n",
    "#\n",
    "# <Image 6>\n",
    "# That's a dog. Breed: Akita\n",
    "#\n",
    "# <Image 7>\n",
    "# That's a human, but it looks like a Black_russian_terrier\n",
    "#\n",
    "# \n",
    "#---\n",
    "####"
   ]
  }
 ],
 "metadata": {
  "anaconda-cloud": {},
  "kernelspec": {
   "display_name": "VPython",
   "language": "python",
   "name": "vpython"
  },
  "language_info": {
   "codemirror_mode": {
    "name": "ipython",
    "version": 2
   },
   "file_extension": ".py",
   "mimetype": "text/x-python",
   "name": "python",
   "nbconvert_exporter": "python",
   "pygments_lexer": "ipython2",
   "version": "2.7.13"
  }
 },
 "nbformat": 4,
 "nbformat_minor": 1
}
