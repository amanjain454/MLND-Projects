{
 "cells": [
  {
   "cell_type": "markdown",
   "metadata": {},
   "source": [
    "# Machine Learning Engineer Nanodegree\n",
    "## Unsupervised Learning\n",
    "## Project: Creating Customer Segments"
   ]
  },
  {
   "cell_type": "markdown",
   "metadata": {},
   "source": [
    "Welcome to the third project of the Machine Learning Engineer Nanodegree! In this notebook, some template code has already been provided for you, and it will be your job to implement the additional functionality necessary to successfully complete this project. Sections that begin with **'Implementation'** in the header indicate that the following block of code will require additional functionality which you must provide. Instructions will be provided for each section and the specifics of the implementation are marked in the code block with a `'TODO'` statement. Please be sure to read the instructions carefully!\n",
    "\n",
    "In addition to implementing code, there will be questions that you must answer which relate to the project and your implementation. Each section where you will answer a question is preceded by a **'Question X'** header. Carefully read each question and provide thorough answers in the following text boxes that begin with **'Answer:'**. Your project submission will be evaluated based on your answers to each of the questions and the implementation you provide.  \n",
    "\n",
    ">**Note:** Code and Markdown cells can be executed using the **Shift + Enter** keyboard shortcut. In addition, Markdown cells can be edited by typically double-clicking the cell to enter edit mode."
   ]
  },
  {
   "cell_type": "markdown",
   "metadata": {},
   "source": [
    "## Getting Started\n",
    "\n",
    "In this project, you will analyze a dataset containing data on various customers' annual spending amounts (reported in *monetary units*) of diverse product categories for internal structure. One goal of this project is to best describe the variation in the different types of customers that a wholesale distributor interacts with. Doing so would equip the distributor with insight into how to best structure their delivery service to meet the needs of each customer.\n",
    "\n",
    "The dataset for this project can be found on the [UCI Machine Learning Repository](https://archive.ics.uci.edu/ml/datasets/Wholesale+customers). For the purposes of this project, the features `'Channel'` and `'Region'` will be excluded in the analysis — with focus instead on the six product categories recorded for customers.\n",
    "\n",
    "Run the code block below to load the wholesale customers dataset, along with a few of the necessary Python libraries required for this project. You will know the dataset loaded successfully if the size of the dataset is reported."
   ]
  },
  {
   "cell_type": "code",
   "execution_count": null,
   "metadata": {
    "collapsed": true
   },
   "outputs": [],
   "source": [
    "# Import libraries necessary for this project\n",
    "import numpy as np\n",
    "import pandas as pd\n",
    "from IPython.display import display # Allows the use of display() for DataFrames\n",
    "\n",
    "# Import supplementary visualizations code visuals.py\n",
    "import visuals as vs\n",
    "\n",
    "# Pretty display for notebooks\n",
    "%matplotlib inline\n",
    "\n",
    "# Load the wholesale customers dataset\n",
    "try:\n",
    "    data = pd.read_csv(\"customers.csv\")\n",
    "    data.drop(['Region', 'Channel'], axis = 1, inplace = True)\n",
    "    print \"Wholesale customers dataset has {} samples with {} features each.\".format(*data.shape)\n",
    "except:\n",
    "    print \"Dataset could not be loaded. Is the dataset missing?\""
   ]
  },
  {
   "cell_type": "markdown",
   "metadata": {},
   "source": [
    "## Data Exploration\n",
    "In this section, you will begin exploring the data through visualizations and code to understand how each feature is related to the others. You will observe a statistical description of the dataset, consider the relevance of each feature, and select a few sample data points from the dataset which you will track through the course of this project.\n",
    "\n",
    "Run the code block below to observe a statistical description of the dataset. Note that the dataset is composed of six important product categories: **'Fresh'**, **'Milk'**, **'Grocery'**, **'Frozen'**, **'Detergents_Paper'**, and **'Delicatessen'**. Consider what each category represents in terms of products you could purchase."
   ]
  },
  {
   "cell_type": "code",
   "execution_count": null,
   "metadata": {
    "collapsed": true
   },
   "outputs": [],
   "source": [
    "# Display a description of the dataset\n",
    "display(data.describe())"
   ]
  },
  {
   "cell_type": "markdown",
   "metadata": {},
   "source": [
    "### Implementation: Selecting Samples\n",
    "To get a better understanding of the customers and how their data will transform through the analysis, it would be best to select a few sample data points and explore them in more detail. In the code block below, add **three** indices of your choice to the `indices` list which will represent the customers to track. It is suggested to try different sets of samples until you obtain customers that vary significantly from one another."
   ]
  },
  {
   "cell_type": "code",
   "execution_count": null,
   "metadata": {
    "collapsed": true
   },
   "outputs": [],
   "source": [
    "# TODO: Select three indices of your choice you wish to sample from the dataset\n",
    "indices = [5,7,234]\n",
    "\n",
    "# Create a DataFrame of the chosen samples\n",
    "samples = pd.DataFrame(data.loc[indices], columns = data.keys()).reset_index(drop = True)\n",
    "print \"Chosen samples of wholesale customers dataset:\"\n",
    "display(samples)"
   ]
  },
  {
   "cell_type": "markdown",
   "metadata": {},
   "source": [
    "### Question 1\n",
    "Consider the total purchase cost of each product category and the statistical description of the dataset above for your sample customers.  \n",
    "*What kind of establishment (customer) could each of the three samples you've chosen represent?*  \n",
    "**Hint:** Examples of establishments include places like markets, cafes, and retailers, among many others. Avoid using names for establishments, such as saying *\"McDonalds\"* when describing a sample customer as a restaurant."
   ]
  },
  {
   "cell_type": "markdown",
   "metadata": {},
   "source": [
    "**Answer:**\n",
    "\n",
    "\n",
    "display(data.describe())\n",
    "               Fresh          Milk       Grocery        Frozen  \\\n",
    "count     440.000000    440.000000    440.000000    440.000000   \n",
    "mean    12000.297727   5796.265909   7951.277273   3071.931818   \n",
    "std     12647.328865   7380.377175   9503.162829   4854.673333   \n",
    "min         3.000000     55.000000      3.000000     25.000000   \n",
    "25%      3127.750000   1533.000000   2153.000000    742.250000   \n",
    "50%      8504.000000   3627.000000   4755.500000   1526.000000   \n",
    "75%     16933.750000   7190.250000  10655.750000   3554.250000   \n",
    "max    112151.000000  73498.000000  92780.000000  60869.000000   \n",
    "\n",
    "       Detergents_Paper  Delicatessen  \n",
    "count        440.000000    440.000000  \n",
    "mean        2881.493182   1524.870455  \n",
    "std         4767.854448   2820.105937  \n",
    "min            3.000000      3.000000  \n",
    "25%          256.750000    408.250000  \n",
    "50%          816.500000    965.500000  \n",
    "75%         3922.000000   1820.250000  \n",
    "max        40827.000000  47943.000000  \n",
    "\n",
    " Fresh  Milk  Grocery  Frozen  Detergents_Paper  Delicatessen\n",
    "0   9413  8259     5126     666              1795          1451\n",
    "1   7579  4956     9426    1669              3321          2566\n",
    "2  15603  2703     3833    4260               325          2563\n",
    "\n",
    "\n",
    "\n",
    "Customer [0] is \n",
    "heavy user of milk, \n",
    "average user for Grocery, Fresh, Detergents, delicatessen\n",
    "light user of Frozen\n",
    "\n",
    "Customer [0] can be a small mom and pop store having high turnover of milk and selling out averahe quantities for daily uses.  \n",
    "\n",
    "Customer [1] is \n",
    "heavy user of grocery, detergent, delicate\n",
    "average user of milk, frozen,\n",
    "light user of  fresh, \n",
    "Customer [1] can be a niche restaurant serving multi course meals (high use of grocery indicates, higher use of utensils). Light use of fresh indicates that ingredient used are not seasonal or available locally. \n",
    "\n",
    "Customer [2] is \n",
    "heavy user of fresh, frozen, delicate\n",
    "average user of \n",
    "light user of milk, grocery, detergent\n",
    "Customer [2] can be high volume (heavy user of fresh, frozen and delicates) popular “take away” or (using one time cutlery) serving multi cuisine dishes. Quick service restaurants.  \n"
   ]
  },
  {
   "cell_type": "markdown",
   "metadata": {},
   "source": [
    "### Implementation: Feature Relevance\n",
    "One interesting thought to consider is if one (or more) of the six product categories is actually relevant for understanding customer purchasing. That is to say, is it possible to determine whether customers purchasing some amount of one category of products will necessarily purchase some proportional amount of another category of products? We can make this determination quite easily by training a supervised regression learner on a subset of the data with one feature removed, and then score how well that model can predict the removed feature.\n",
    "\n",
    "In the code block below, you will need to implement the following:\n",
    " - Assign `new_data` a copy of the data by removing a feature of your choice using the `DataFrame.drop` function.\n",
    " - Use `sklearn.cross_validation.train_test_split` to split the dataset into training and testing sets.\n",
    "   - Use the removed feature as your target label. Set a `test_size` of `0.25` and set a `random_state`.\n",
    " - Import a decision tree regressor, set a `random_state`, and fit the learner to the training data.\n",
    " - Report the prediction score of the testing set using the regressor's `score` function."
   ]
  },
  {
   "cell_type": "code",
   "execution_count": null,
   "metadata": {
    "collapsed": true
   },
   "outputs": [],
   "source": [
    "# TODO: Make a copy of the DataFrame, using the 'drop' function to drop the given feature\n",
    "new_data = data.drop('Fresh', axis = 1)\n",
    "removed_data = data['Fresh']\n",
    "\n",
    "# TODO: Split the data into training and testing sets using the given feature as the target\n",
    "from sklearn.model_selection import train_test_split\n",
    "X_train, X_test, y_train, y_test = train_test_split(new_data, removed_data, test_size=0.25, random_state=42)\n",
    "\n",
    "# TODO: Create a decision tree regressor and fit it to the training set\n",
    "from sklearn.tree import DecisionTreeRegressor\n",
    "regressor = DecisionTreeRegressor(random_state=0)\n",
    "regressor.fit(X_train, y_train)\n",
    "\n",
    "# TODO: Report the score of the prediction using the testing set\n",
    "score = regressor.score(X_test, y_test)"
   ]
  },
  {
   "cell_type": "markdown",
   "metadata": {},
   "source": [
    "### Question 2\n",
    "*Which feature did you attempt to predict? What was the reported prediction score? Is this feature necessary for identifying customers' spending habits?*  \n",
    "**Hint:** The coefficient of determination, `R^2`, is scored between 0 and 1, with 1 being a perfect fit. A negative `R^2` implies the model fails to fit the data."
   ]
  },
  {
   "cell_type": "markdown",
   "metadata": {},
   "source": [
    "**Answer:**\n",
    "\n",
    "Following are the Scores for predicting different features from rest of the feature set. \n",
    "\n",
    "Delicatessen : -11.963567080412114\n",
    "Detergents_Paper : 0.35163604693716366\n",
    "Frozen : -0.21792065330523422\n",
    "Grocery : 0.72364669274327786\n",
    "Milk : 0.20562447078918819\n",
    "Fresh: -0.31362846531494859\n",
    "\n",
    "Grocery has highest regressor score of 0.732. This indicates that among all features, variation in \"Grocery\" can be explained by variation in other features. Hence, \"Grocery\" on its own, does not add enough information to study customer's spending habits. This feature is not really necessary for this study. \n"
   ]
  },
  {
   "cell_type": "markdown",
   "metadata": {},
   "source": [
    "### Visualize Feature Distributions\n",
    "To get a better understanding of the dataset, we can construct a scatter matrix of each of the six product features present in the data. If you found that the feature you attempted to predict above is relevant for identifying a specific customer, then the scatter matrix below may not show any correlation between that feature and the others. Conversely, if you believe that feature is not relevant for identifying a specific customer, the scatter matrix might show a correlation between that feature and another feature in the data. Run the code block below to produce a scatter matrix."
   ]
  },
  {
   "cell_type": "code",
   "execution_count": null,
   "metadata": {
    "collapsed": true
   },
   "outputs": [],
   "source": [
    "# Produce a scatter matrix for each pair of features in the data\n",
    "pd.scatter_matrix(data, alpha = 0.3, figsize = (14,8), diagonal = 'kde');\n",
    "\n",
    "# Plotting data distribution \n",
    "\n",
    "%matplotlib inline\n",
    "from scipy import stats, integrate\n",
    "import matplotlib.pyplot as plt\n",
    "import seaborn as sns\n",
    "sns.set(color_codes=True)\n",
    "np.random.seed(sum(map(ord, \"distributions\")))\n",
    "\n",
    "plot_data = data['Grocery']\n",
    "sns.distplot(plot_data);"
   ]
  },
  {
   "cell_type": "markdown",
   "metadata": {},
   "source": [
    "### Question 3\n",
    "*Are there any pairs of features which exhibit some degree of correlation? Does this confirm or deny your suspicions about the relevance of the feature you attempted to predict? How is the data for those features distributed?*  \n",
    "**Hint:** Is the data normally distributed? Where do most of the data points lie? "
   ]
  },
  {
   "cell_type": "markdown",
   "metadata": {},
   "source": [
    "**Answer:**\n",
    "\n",
    "Yes, following pair of features exhibit significant degree of correlation. \n",
    "\n",
    "1. (Grocery and milk) \n",
    "2. (Grocery and detergent_paper) \n",
    "3. (Milk and detergent_paper) \n",
    "\n",
    "For above three pair of features, shape of scatter plots is distinctively linear. While for other pairs shape is not significant. \n",
    "\n",
    "In answer 2, (Grocery, detergent_paper and milk) came out to highest regressor score (in that order). So, this confirms the non-relevance of Features as described in answer 2.  \n",
    "\n",
    "Data for these features (Grocery, milk and detergent_paper) is right skewed, with most of the data points lie on the lower values for feature and a long tail for higher values of features. \n",
    "\n",
    "\n",
    "￼"
   ]
  },
  {
   "cell_type": "markdown",
   "metadata": {},
   "source": [
    "## Data Preprocessing\n",
    "In this section, you will preprocess the data to create a better representation of customers by performing a scaling on the data and detecting (and optionally removing) outliers. Preprocessing data is often times a critical step in assuring that results you obtain from your analysis are significant and meaningful."
   ]
  },
  {
   "cell_type": "markdown",
   "metadata": {},
   "source": [
    "### Implementation: Feature Scaling\n",
    "If data is not normally distributed, especially if the mean and median vary significantly (indicating a large skew), it is most [often appropriate](http://econbrowser.com/archives/2014/02/use-of-logarithms-in-economics) to apply a non-linear scaling — particularly for financial data. One way to achieve this scaling is by using a [Box-Cox test](http://scipy.github.io/devdocs/generated/scipy.stats.boxcox.html), which calculates the best power transformation of the data that reduces skewness. A simpler approach which can work in most cases would be applying the natural logarithm.\n",
    "\n",
    "In the code block below, you will need to implement the following:\n",
    " - Assign a copy of the data to `log_data` after applying logarithmic scaling. Use the `np.log` function for this.\n",
    " - Assign a copy of the sample data to `log_samples` after applying logarithmic scaling. Again, use `np.log`."
   ]
  },
  {
   "cell_type": "code",
   "execution_count": null,
   "metadata": {
    "collapsed": true
   },
   "outputs": [],
   "source": [
    "# TODO: Scale the data using the natural logarithm\n",
    "log_data = np.log(data)\n",
    "\n",
    "# TODO: Scale the sample data using the natural logarithm\n",
    "log_samples = np.log(samples)\n",
    "\n",
    "# Produce a scatter matrix for each pair of newly-transformed features\n",
    "pd.scatter_matrix(log_data, alpha = 0.3, figsize = (14,8), diagonal = 'kde');"
   ]
  },
  {
   "cell_type": "markdown",
   "metadata": {},
   "source": [
    "### Observation\n",
    "After applying a natural logarithm scaling to the data, the distribution of each feature should appear much more normal. For any pairs of features you may have identified earlier as being correlated, observe here whether that correlation is still present (and whether it is now stronger or weaker than before).\n",
    "\n",
    "Run the code below to see how the sample data has changed after having the natural logarithm applied to it."
   ]
  },
  {
   "cell_type": "code",
   "execution_count": null,
   "metadata": {
    "collapsed": true
   },
   "outputs": [],
   "source": [
    "# Display the log-transformed sample data\n",
    "display(log_samples)"
   ]
  },
  {
   "cell_type": "markdown",
   "metadata": {},
   "source": [
    "### Implementation: Outlier Detection\n",
    "Detecting outliers in the data is extremely important in the data preprocessing step of any analysis. The presence of outliers can often skew results which take into consideration these data points. There are many \"rules of thumb\" for what constitutes an outlier in a dataset. Here, we will use [Tukey's Method for identfying outliers](http://datapigtechnologies.com/blog/index.php/highlighting-outliers-in-your-data-with-the-tukey-method/): An *outlier step* is calculated as 1.5 times the interquartile range (IQR). A data point with a feature that is beyond an outlier step outside of the IQR for that feature is considered abnormal.\n",
    "\n",
    "In the code block below, you will need to implement the following:\n",
    " - Assign the value of the 25th percentile for the given feature to `Q1`. Use `np.percentile` for this.\n",
    " - Assign the value of the 75th percentile for the given feature to `Q3`. Again, use `np.percentile`.\n",
    " - Assign the calculation of an outlier step for the given feature to `step`.\n",
    " - Optionally remove data points from the dataset by adding indices to the `outliers` list.\n",
    "\n",
    "**NOTE:** If you choose to remove any outliers, ensure that the sample data does not contain any of these points!  \n",
    "Once you have performed this implementation, the dataset will be stored in the variable `good_data`."
   ]
  },
  {
   "cell_type": "code",
   "execution_count": null,
   "metadata": {
    "collapsed": true
   },
   "outputs": [],
   "source": [
    "# For each feature find the data points with extreme high or low values\n",
    "for feature in log_data.keys():\n",
    "    \n",
    "    # TODO: Calculate Q1 (25th percentile of the data) for the given feature\n",
    "    Q1 = np.percentile(log_data[feature], 25)\n",
    "    \n",
    "    # TODO: Calculate Q3 (75th percentile of the data) for the given feature\n",
    "    Q3 = np.percentile(log_data[feature], 75)\n",
    "    \n",
    "    # TODO: Use the interquartile range to calculate an outlier step (1.5 times the interquartile range)\n",
    "    step = (Q3 - Q1) * 1.5\n",
    "    \n",
    "    # Display the outliers\n",
    "    print \"Data points considered outliers for the feature '{}':\".format(feature)\n",
    "    display(log_data[~((log_data[feature] >= Q1 - step) & (log_data[feature] <= Q3 + step))])\n",
    "    \n",
    "# OPTIONAL: Select the indices for data points you wish to remove\n",
    "outliers  = [65,66,75,128,154]\n",
    "\n",
    "# Remove the outliers, if any were specified\n",
    "good_data = log_data.drop(log_data.index[outliers]).reset_index(drop = True)"
   ]
  },
  {
   "cell_type": "markdown",
   "metadata": {},
   "source": [
    "### Question 4\n",
    "*Are there any data points considered outliers for more than one feature based on the definition above? Should these data points be removed from the dataset? If any data points were added to the `outliers` list to be removed, explain why.* "
   ]
  },
  {
   "cell_type": "markdown",
   "metadata": {},
   "source": [
    "**Answer:**\n",
    "\n",
    "Data points considered outliers for the feature 'Fresh':\n",
    "\n",
    "        Fresh       Milk    Grocery    Frozen  Detergents_Paper  Delicatessen\n",
    "65   4.442651   9.950323  10.732651  3.583519         10.095388      7.260523\n",
    "66   2.197225   7.335634   8.911530  5.164786          8.151333      3.295837\n",
    "81   5.389072   9.163249   9.575192  5.645447          8.964184      5.049856\n",
    "95   1.098612   7.979339   8.740657  6.086775          5.407172      6.563856\n",
    "96   3.135494   7.869402   9.001839  4.976734          8.262043      5.379897\n",
    "128  4.941642   9.087834   8.248791  4.955827          6.967909      1.098612\n",
    "171  5.298317  10.160530   9.894245  6.478510          9.079434      8.740337\n",
    "193  5.192957   8.156223   9.917982  6.865891          8.633731      6.501290\n",
    "218  2.890372   8.923191   9.629380  7.158514          8.475746      8.759669\n",
    "304  5.081404   8.917311  10.117510  6.424869          9.374413      7.787382\n",
    "305  5.493061   9.468001   9.088399  6.683361          8.271037      5.351858\n",
    "338  1.098612   5.808142   8.856661  9.655090          2.708050      6.309918\n",
    "353  4.762174   8.742574   9.961898  5.429346          9.069007      7.013016\n",
    "355  5.247024   6.588926   7.606885  5.501258          5.214936      4.844187\n",
    "357  3.610918   7.150701  10.011086  4.919981          8.816853      4.700480\n",
    "412  4.574711   8.190077   9.425452  4.584967          7.996317      4.127134\n",
    "\n",
    "Data points considered outliers for the feature 'Milk':\n",
    "\n",
    "         Fresh       Milk    Grocery    Frozen  Detergents_Paper  Delicatessen\n",
    "86   10.039983  11.205013  10.377047  6.894670          9.906981      6.805723\n",
    "98    6.220590   4.718499   6.656727  6.796824          4.025352      4.882802\n",
    "154   6.432940   4.007333   4.919981  4.317488          1.945910      2.079442\n",
    "356  10.029503   4.897840   5.384495  8.057377          2.197225      6.306275\n",
    "\n",
    "Data points considered outliers for the feature 'Grocery':\n",
    "\n",
    "        Fresh      Milk   Grocery    Frozen  Detergents_Paper  Delicatessen\n",
    "75   9.923192  7.036148  1.098612  8.390949          1.098612      6.882437\n",
    "154  6.432940  4.007333  4.919981  4.317488          1.945910      2.079442\n",
    "\n",
    "Data points considered outliers for the feature 'Frozen':\n",
    "\n",
    "         Fresh      Milk    Grocery     Frozen  Detergents_Paper  Delicatessen\n",
    "38    8.431853  9.663261   9.723703   3.496508          8.847360      6.070738\n",
    "57    8.597297  9.203618   9.257892   3.637586          8.932213      7.156177\n",
    "65    4.442651  9.950323  10.732651   3.583519         10.095388      7.260523\n",
    "145  10.000569  9.034080  10.457143   3.737670          9.440738      8.396155\n",
    "175   7.759187  8.967632   9.382106   3.951244          8.341887      7.436617\n",
    "264   6.978214  9.177714   9.645041   4.110874          8.696176      7.142827\n",
    "325  10.395650  9.728181   9.519735  11.016479          7.148346      8.632128\n",
    "420   8.402007  8.569026   9.490015   3.218876          8.827321      7.239215\n",
    "429   9.060331  7.467371   8.183118   3.850148          4.430817      7.824446\n",
    "439   7.932721  7.437206   7.828038   4.174387          6.167516      3.951244\n",
    "\n",
    "Data points considered outliers for the feature 'Detergents_Paper':\n",
    "\n",
    "        Fresh      Milk   Grocery    Frozen  Detergents_Paper  Delicatessen\n",
    "75   9.923192  7.036148  1.098612  8.390949          1.098612      6.882437\n",
    "161  9.428190  6.291569  5.645447  6.995766          1.098612      7.711101\n",
    "\n",
    "Data points considered outliers for the feature 'Delicatessen':\n",
    "\n",
    "         Fresh       Milk    Grocery     Frozen  Detergents_Paper  \\\n",
    "66    2.197225   7.335634   8.911530   5.164786          8.151333   \n",
    "109   7.248504   9.724899  10.274568   6.511745          6.728629   \n",
    "128   4.941642   9.087834   8.248791   4.955827          6.967909   \n",
    "137   8.034955   8.997147   9.021840   6.493754          6.580639   \n",
    "142  10.519646   8.875147   9.018332   8.004700          2.995732   \n",
    "154   6.432940   4.007333   4.919981   4.317488          1.945910   \n",
    "183  10.514529  10.690808   9.911952  10.505999          5.476464   \n",
    "184   5.789960   6.822197   8.457443   4.304065          5.811141   \n",
    "187   7.798933   8.987447   9.192075   8.743372          8.148735   \n",
    "203   6.368187   6.529419   7.703459   6.150603          6.860664   \n",
    "233   6.871091   8.513988   8.106515   6.842683          6.013715   \n",
    "285  10.602965   6.461468   8.188689   6.948897          6.077642   \n",
    "289  10.663966   5.655992   6.154858   7.235619          3.465736   \n",
    "343   7.431892   8.848509  10.177932   7.283448          9.646593   \n",
    "\n",
    "     Delicatessen  \n",
    "66       3.295837  \n",
    "109      1.098612  \n",
    "128      1.098612  \n",
    "137      3.583519  \n",
    "142      1.098612  \n",
    "154      2.079442  \n",
    "183     10.777768  \n",
    "184      2.397895  \n",
    "187      1.098612  \n",
    "203      2.890372  \n",
    "233      1.945910  \n",
    "285      2.890372  \n",
    "289      3.091042  \n",
    "343      3.610918  \n",
    "\n",
    "\n",
    "Yes, There are total 43 unique data points which are found outlier for atleast one feature. Out of these 5 data points ([65,66,75,128,154]) are found to be outlier for more than one features. \n",
    "\n",
    "In general, it is we should be removing outliers from the analysis if we can be certain that: \n",
    "1. These points are due to measurement error. \n",
    "2. These points are not possible under natural laws (here, normal consumption). \n",
    "\n",
    "In our case, we do not have way to identify measurement errors and outlier step of 1.5 time the interquantile range is not really a deviation under normal consumption levels. In light of above constraints, we should not remove the points which are outlier on just one feature. \n",
    "\n",
    "However, Removing points on the basis of them being outlier on more than one feature makes sense as these outliers points may shift center of clusters or tilt the principal components in more biased manner. I would want to remove these outliers so that these data points do not bias the model accuracy towards exceptional cases. \n",
    "\n",
    "References: \n",
    "https://www.researchgate.net/post/When_is_it_justifiable_to_exclude_outlier_data_points_from_statistical_analyses\n",
    "https://stats.stackexchange.com/questions/200534/is-it-ok-to-remove-outliers-from-data/200535\n"
   ]
  },
  {
   "cell_type": "markdown",
   "metadata": {},
   "source": [
    "## Feature Transformation\n",
    "In this section you will use principal component analysis (PCA) to draw conclusions about the underlying structure of the wholesale customer data. Since using PCA on a dataset calculates the dimensions which best maximize variance, we will find which compound combinations of features best describe customers."
   ]
  },
  {
   "cell_type": "markdown",
   "metadata": {},
   "source": [
    "### Implementation: PCA\n",
    "\n",
    "Now that the data has been scaled to a more normal distribution and has had any necessary outliers removed, we can now apply PCA to the `good_data` to discover which dimensions about the data best maximize the variance of features involved. In addition to finding these dimensions, PCA will also report the *explained variance ratio* of each dimension — how much variance within the data is explained by that dimension alone. Note that a component (dimension) from PCA can be considered a new \"feature\" of the space, however it is a composition of the original features present in the data.\n",
    "\n",
    "In the code block below, you will need to implement the following:\n",
    " - Import `sklearn.decomposition.PCA` and assign the results of fitting PCA in six dimensions with `good_data` to `pca`.\n",
    " - Apply a PCA transformation of `log_samples` using `pca.transform`, and assign the results to `pca_samples`."
   ]
  },
  {
   "cell_type": "code",
   "execution_count": null,
   "metadata": {
    "collapsed": true
   },
   "outputs": [],
   "source": [
    "# TODO: Apply PCA by fitting the good data with the same number of dimensions as features\n",
    "from sklearn.decomposition import PCA\n",
    "pca = PCA(n_components=6).fit(good_data)\n",
    "\n",
    "# TODO: Transform log_samples using the PCA fit above\n",
    "pca_samples = pca.transform(log_samples)\n",
    "\n",
    "# Generate PCA results plot\n",
    "pca_results = vs.pca_results(good_data, pca)\n",
    "\n",
    "# Calculating cumulative explained variance \n",
    "np.cumsum(pca.explained_variance_ratio_)"
   ]
  },
  {
   "cell_type": "markdown",
   "metadata": {},
   "source": [
    "### Question 5\n",
    "*How much variance in the data is explained* ***in total*** *by the first and second principal component? What about the first four principal components? Using the visualization provided above, discuss what the first four dimensions best represent in terms of customer spending.*  \n",
    "**Hint:** A positive increase in a specific dimension corresponds with an *increase* of the *positive-weighted* features and a *decrease* of the *negative-weighted* features. The rate of increase or decrease is based on the individual feature weights."
   ]
  },
  {
   "cell_type": "markdown",
   "metadata": {},
   "source": [
    "**Answer:**\n",
    "\n",
    "Dimension 1    0.4430\n",
    "Dimension 2    0.7068\n",
    "Dimension 3    0.8299\n",
    "Dimension 4    0.9311\n",
    "Dimension 5    0.9796\n",
    "Dimension 6    1.0000\n",
    "\n",
    "First two dimension explains 70% of variance together. First four principal components explains 93% of variance together. \n",
    "\n",
    "Dimension 1: \n",
    "\n",
    "Milk, Grocery and Detergent_Paper dominates this dimension with feature weights of -0.4, -0.4 and -0.75 (approx). \n",
    "The first component would represents that variance in customer spending can be explained (by 44%) by spending on Milk, Grocery and Detergents_Paper products - Some customers spending highly on this while other few amount. High spending on Dimension 1 maybe retail spending.\n",
    "\n",
    "Dimension 2: \n",
    "\n",
    "Dimension 2 looks quite orthogonal to dimension 1. Fresh, Frozen and delicates dominates this dimension with feature weights of -0.7, -0.5 and -0.5 (approx). Variance in customer spending can be explained by spending on Fresh, Frozen and delicate products - Some customers spending highly on this while other few amount. High spending on Dimension 2 maybe a restaurant spending.\n",
    "\n",
    "Dimension 3: \n",
    "\n",
    "Fresh and delicates dominates this dimension with feature weights of -0.7 and +0.6 (approx). Opposite feature weights indicates opposite level of spending for these two. Dimension 3 increases with increase in delicate and decrease in Fresh and vice versa. Dimension 3 explains a band of retail spending - higher dimension 3 represents niche food prep (foreigh food extracts manybe) retail spending and lower dimension 3 represents typical fresh spending (may be local vegetables, season fruits etc.)\n",
    "\n",
    "Dimension 4: \n",
    "\n",
    "Frozen and delicates dominates this dimension with feature weights of +0.8 and -0.5 (approx). Opposite feature weights indicates opposite level of spending for these two. Dimension 3 increases with increase in Frozen and decrease in delicates and vice versa. Dimension 4 explains a band of restaurant spending - higher dimension 4 represents Frozen (meat, seafood manybe) restaurant spending and lower dimension 4 represents niche food prep (foreigh food extracts manybe).\n",
    "\n",
    "Reference: \n",
    "http://webspace.ship.edu/pgmarr/Geo441/Lectures/Lec%2017%20-%20Principal%20Component%20Analysis.pdf\n",
    "https://onlinecourses.science.psu.edu/stat505/node/54\n"
   ]
  },
  {
   "cell_type": "markdown",
   "metadata": {},
   "source": [
    "### Observation\n",
    "Run the code below to see how the log-transformed sample data has changed after having a PCA transformation applied to it in six dimensions. Observe the numerical value for the first four dimensions of the sample points. Consider if this is consistent with your initial interpretation of the sample points."
   ]
  },
  {
   "cell_type": "code",
   "execution_count": null,
   "metadata": {
    "collapsed": true
   },
   "outputs": [],
   "source": [
    "# Display sample log-data after having a PCA transformation applied\n",
    "display(pd.DataFrame(np.round(pca_samples, 4), columns = pca_results.index.values))"
   ]
  },
  {
   "cell_type": "markdown",
   "metadata": {},
   "source": [
    "### Implementation: Dimensionality Reduction\n",
    "When using principal component analysis, one of the main goals is to reduce the dimensionality of the data — in effect, reducing the complexity of the problem. Dimensionality reduction comes at a cost: Fewer dimensions used implies less of the total variance in the data is being explained. Because of this, the *cumulative explained variance ratio* is extremely important for knowing how many dimensions are necessary for the problem. Additionally, if a signifiant amount of variance is explained by only two or three dimensions, the reduced data can be visualized afterwards.\n",
    "\n",
    "In the code block below, you will need to implement the following:\n",
    " - Assign the results of fitting PCA in two dimensions with `good_data` to `pca`.\n",
    " - Apply a PCA transformation of `good_data` using `pca.transform`, and assign the results to `reduced_data`.\n",
    " - Apply a PCA transformation of `log_samples` using `pca.transform`, and assign the results to `pca_samples`."
   ]
  },
  {
   "cell_type": "code",
   "execution_count": null,
   "metadata": {
    "collapsed": true
   },
   "outputs": [],
   "source": [
    "# TODO: Apply PCA by fitting the good data with only two dimensions\n",
    "pca = PCA(n_components=2).fit(good_data)\n",
    "\n",
    "# TODO: Transform the good data using the PCA fit above\n",
    "reduced_data = pca.transform(good_data)\n",
    "\n",
    "# TODO: Transform log_samples using the PCA fit above\n",
    "pca_samples = pca.transform(log_samples)\n",
    "\n",
    "# Create a DataFrame for the reduced data\n",
    "reduced_data = pd.DataFrame(reduced_data, columns = ['Dimension 1', 'Dimension 2'])"
   ]
  },
  {
   "cell_type": "markdown",
   "metadata": {},
   "source": [
    "### Observation\n",
    "Run the code below to see how the log-transformed sample data has changed after having a PCA transformation applied to it using only two dimensions. Observe how the values for the first two dimensions remains unchanged when compared to a PCA transformation in six dimensions."
   ]
  },
  {
   "cell_type": "code",
   "execution_count": null,
   "metadata": {
    "collapsed": true
   },
   "outputs": [],
   "source": [
    "# Display sample log-data after applying PCA transformation in two dimensions\n",
    "display(pd.DataFrame(np.round(pca_samples, 4), columns = ['Dimension 1', 'Dimension 2']))"
   ]
  },
  {
   "cell_type": "markdown",
   "metadata": {},
   "source": [
    "## Visualizing a Biplot\n",
    "A biplot is a scatterplot where each data point is represented by its scores along the principal components. The axes are the principal components (in this case `Dimension 1` and `Dimension 2`). In addition, the biplot shows the projection of the original features along the components. A biplot can help us interpret the reduced dimensions of the data, and discover relationships between the principal components and original features.\n",
    "\n",
    "Run the code cell below to produce a biplot of the reduced-dimension data."
   ]
  },
  {
   "cell_type": "code",
   "execution_count": null,
   "metadata": {
    "collapsed": true
   },
   "outputs": [],
   "source": [
    "# Create a biplot\n",
    "vs.biplot(good_data, reduced_data, pca)"
   ]
  },
  {
   "cell_type": "markdown",
   "metadata": {},
   "source": [
    "### Observation\n",
    "\n",
    "Once we have the original feature projections (in red), it is easier to interpret the relative position of each data point in the scatterplot. For instance, a point the lower right corner of the figure will likely correspond to a customer that spends a lot on `'Milk'`, `'Grocery'` and `'Detergents_Paper'`, but not so much on the other product categories. \n",
    "\n",
    "From the biplot, which of the original features are most strongly correlated with the first component? What about those that are associated with the second component? Do these observations agree with the pca_results plot you obtained earlier?"
   ]
  },
  {
   "cell_type": "markdown",
   "metadata": {},
   "source": [
    "## Clustering\n",
    "\n",
    "In this section, you will choose to use either a K-Means clustering algorithm or a Gaussian Mixture Model clustering algorithm to identify the various customer segments hidden in the data. You will then recover specific data points from the clusters to understand their significance by transforming them back into their original dimension and scale. "
   ]
  },
  {
   "cell_type": "markdown",
   "metadata": {},
   "source": [
    "### Question 6\n",
    "*What are the advantages to using a K-Means clustering algorithm? What are the advantages to using a Gaussian Mixture Model clustering algorithm? Given your observations about the wholesale customer data so far, which of the two algorithms will you use and why?*"
   ]
  },
  {
   "cell_type": "markdown",
   "metadata": {},
   "source": [
    "**Answer:**\n",
    "\n",
    "Advantages of K-means:\n",
    "1. it is a computationally fast for high number of the variables. \n",
    "2. K-Means may produce tighter clusters than hierarchical clustering, if the clusters are globular (if data points have well-defines centers).\n",
    "\n",
    "Disadvantages of K-means: \n",
    "1. Inconsistent: Different initial partitions or values of K affect outcome.\n",
    "2. Fixed number of clusters can make it difficult to predict what K should be.\n",
    "3. Does not work well with non-globular clusters.\n",
    "\n",
    "Advantages of GMM: \n",
    "1. GMM works well for rotated and/or elongated distribution of points in a cluster (non-globular), instead of spherical as in kmeans.\n",
    "2. GMM allows for mixed membership of points to clusters.GMM a point belongs to different clusters to a different degree. \n",
    "\n",
    "The first two principal components are mutually exclusive in terms of features they weight upon - which indicates definitely at least 2 different chunk of spatially distant data points. Also, PC plane looks I shall be using K-means (being general purpose algorithm). \n",
    "\n",
    "Resources: http://www.improvedoutcomes.com/docs/WebSiteDocs/Clustering/K-Means_Clustering_Overview.htm\n",
    "https://www.quora.com/What-are-the-advantages-to-using-a-Gaussian-Mixture-Model-clustering-algorithm\n"
   ]
  },
  {
   "cell_type": "markdown",
   "metadata": {},
   "source": [
    "### Implementation: Creating Clusters\n",
    "Depending on the problem, the number of clusters that you expect to be in the data may already be known. When the number of clusters is not known *a priori*, there is no guarantee that a given number of clusters best segments the data, since it is unclear what structure exists in the data — if any. However, we can quantify the \"goodness\" of a clustering by calculating each data point's *silhouette coefficient*. The [silhouette coefficient](http://scikit-learn.org/stable/modules/generated/sklearn.metrics.silhouette_score.html) for a data point measures how similar it is to its assigned cluster from -1 (dissimilar) to 1 (similar). Calculating the *mean* silhouette coefficient provides for a simple scoring method of a given clustering.\n",
    "\n",
    "In the code block below, you will need to implement the following:\n",
    " - Fit a clustering algorithm to the `reduced_data` and assign it to `clusterer`.\n",
    " - Predict the cluster for each data point in `reduced_data` using `clusterer.predict` and assign them to `preds`.\n",
    " - Find the cluster centers using the algorithm's respective attribute and assign them to `centers`.\n",
    " - Predict the cluster for each sample data point in `pca_samples` and assign them `sample_preds`.\n",
    " - Import `sklearn.metrics.silhouette_score` and calculate the silhouette score of `reduced_data` against `preds`.\n",
    "   - Assign the silhouette score to `score` and print the result."
   ]
  },
  {
   "cell_type": "code",
   "execution_count": null,
   "metadata": {
    "collapsed": true
   },
   "outputs": [],
   "source": [
    "from sklearn.cluster import KMeans\n",
    "from sklearn.metrics import silhouette_score\n",
    "\n",
    "# TODO: Apply your clustering algorithm of choice to the reduced data \n",
    "clusterer = KMeans(n_clusters=2, random_state=29).fit(reduced_data)\n",
    "\n",
    "# TODO: Predict the cluster for each data point\n",
    "preds = clusterer.predict(reduced_data)\n",
    "\n",
    "# TODO: Find the cluster centers\n",
    "centers = clusterer.cluster_centers_\n",
    "\n",
    "# TODO: Predict the cluster for each transformed sample data point\n",
    "transformed_samples = pd.DataFrame(pca_samples, columns = ['Dimension 1', 'Dimension 2'])\n",
    "sample_preds = clusterer.predict(transformed_samples)\n",
    "\n",
    "# TODO: Calculate the mean silhouette coefficient for the number of clusters chosen\n",
    "score = silhouette_score(reduced_data, clusterer.labels_, metric='euclidean')\n",
    "print(\"KMeans score\", score)"
   ]
  },
  {
   "cell_type": "markdown",
   "metadata": {},
   "source": [
    "### Question 7\n",
    "*Report the silhouette score for several cluster numbers you tried. Of these, which number of clusters has the best silhouette score?* "
   ]
  },
  {
   "cell_type": "markdown",
   "metadata": {},
   "source": [
    "**Answer:**\n",
    "for 2 clusters: 0.42628101546910846 (selected) \n",
    "for 3 clusters: 0.39298741109609808\n",
    "for 4 clusters: 0.33119558416124728\n",
    "for 5 clusters: 0.35220887435264298\n",
    "for 6 clusters: 0.36592432818845438\n",
    "\n",
    "silhouette_score is highest for case where number of clusters are 2. \n"
   ]
  },
  {
   "cell_type": "markdown",
   "metadata": {},
   "source": [
    "### Cluster Visualization\n",
    "Once you've chosen the optimal number of clusters for your clustering algorithm using the scoring metric above, you can now visualize the results by executing the code block below. Note that, for experimentation purposes, you are welcome to adjust the number of clusters for your clustering algorithm to see various visualizations. The final visualization provided should, however, correspond with the optimal number of clusters. "
   ]
  },
  {
   "cell_type": "code",
   "execution_count": null,
   "metadata": {
    "collapsed": true
   },
   "outputs": [],
   "source": [
    "# Display the results of the clustering from implementation\n",
    "vs.cluster_results(reduced_data, preds, centers, pca_samples)"
   ]
  },
  {
   "cell_type": "markdown",
   "metadata": {},
   "source": [
    "### Implementation: Data Recovery\n",
    "Each cluster present in the visualization above has a central point. These centers (or means) are not specifically data points from the data, but rather the *averages* of all the data points predicted in the respective clusters. For the problem of creating customer segments, a cluster's center point corresponds to *the average customer of that segment*. Since the data is currently reduced in dimension and scaled by a logarithm, we can recover the representative customer spending from these data points by applying the inverse transformations.\n",
    "\n",
    "In the code block below, you will need to implement the following:\n",
    " - Apply the inverse transform to `centers` using `pca.inverse_transform` and assign the new centers to `log_centers`.\n",
    " - Apply the inverse function of `np.log` to `log_centers` using `np.exp` and assign the true centers to `true_centers`.\n"
   ]
  },
  {
   "cell_type": "code",
   "execution_count": null,
   "metadata": {
    "collapsed": true
   },
   "outputs": [],
   "source": [
    "# TODO: Inverse transform the centers\n",
    "log_centers = pca.inverse_transform(centers)\n",
    "\n",
    "# TODO: Exponentiate the centers\n",
    "true_centers = np.exp(log_centers)\n",
    "\n",
    "# Display the true centers\n",
    "segments = ['Segment {}'.format(i) for i in range(0,len(centers))]\n",
    "true_centers = pd.DataFrame(np.round(true_centers), columns = data.keys())\n",
    "true_centers.index = segments\n",
    "display(true_centers)"
   ]
  },
  {
   "cell_type": "markdown",
   "metadata": {},
   "source": [
    "### Question 8\n",
    "Consider the total purchase cost of each product category for the representative data points above, and reference the statistical description of the dataset at the beginning of this project. *What set of establishments could each of the customer segments represent?*  \n",
    "**Hint:** A customer who is assigned to `'Cluster X'` should best identify with the establishments represented by the feature set of `'Segment X'`."
   ]
  },
  {
   "cell_type": "markdown",
   "metadata": {},
   "source": [
    "**Answer:**\n",
    "\n",
    "Actual cluster centers\n",
    "            Fresh    Milk  Grocery  Frozen  Detergents_Paper  Delicatessen\n",
    "Segment 0  4005.0  7900.0  12104.0   952.0            4561.0        1036.0\n",
    "Segment 1  8867.0  1897.0   2477.0  2088.0             294.0         681.0\n",
    "\n",
    "mean values array  ([ 12089.,   5788.,   7911.,   3096.,   2848.,   1537.])\n",
    "median values array([ 8565.,  3634.,  4757.,  1541.,   813.,   967.])\n",
    "\n",
    "Centers offset from mean\n",
    "            Fresh    Milk  Grocery  Frozen  Detergents_Paper  Delicatessen\n",
    "Segment 0 -8084.0  2112.0   4193.0 -2144.0            1713.0        -501.0\n",
    "Segment 1 -3222.0 -3891.0  -5434.0 -1008.0           -2554.0        -856.0\n",
    "\n",
    "Centers offset from median\n",
    "            Fresh    Milk  Grocery  Frozen  Detergents_Paper  Delicatessen\n",
    "Segment 0 -4560.0  4266.0   7347.0  -589.0            3748.0          69.0\n",
    "Segment 1   302.0 -1737.0  -2280.0   547.0            -519.0        -286.0\n",
    "\n",
    "Cluster 0 is \n",
    "heavy user of milk, grocery and detergent_paper \n",
    "average/median user for delicatessen\n",
    "light user of Fresh, frozen and \n",
    "\n",
    "Cluster 0 can be a retail store having high turnover of milk, grocery and detergents and selling out small quantities for fresh and frozen.  \n",
    "\n",
    "Cluster 1 is \n",
    "heavy user of Frozen, \n",
    "average/median user of Fresh, \n",
    "light user of milk, grocery, detergent_paper, delicate \n",
    "\n",
    "Cluster 1 can be a take away food joint focussed on frozen ingredients / meats. \n"
   ]
  },
  {
   "cell_type": "markdown",
   "metadata": {},
   "source": [
    "### Question 9\n",
    "*For each sample point, which customer segment from* ***Question 8*** *best represents it? Are the predictions for each sample point consistent with this?*\n",
    "\n",
    "Run the code block below to find which cluster each sample point is predicted to be."
   ]
  },
  {
   "cell_type": "code",
   "execution_count": null,
   "metadata": {
    "collapsed": true
   },
   "outputs": [],
   "source": [
    "# Display the predictions\n",
    "for i, pred in enumerate(sample_preds):\n",
    "    print \"Sample point\", i, \"predicted to be in Cluster\", pred"
   ]
  },
  {
   "cell_type": "markdown",
   "metadata": {},
   "source": [
    "**Answer:**\n",
    "\n",
    "Sample point 0 predicted to be in Cluster 0\n",
    "Sample point 1 predicted to be in Cluster 0\n",
    "Sample point 2 predicted to be in Cluster 1\n",
    "\n",
    "Visual representation of the sample data points and centers indicates that Cluster predicted are consistent. Each sample data point is significantly close to the center of predicted cluster than the center of other cluster. \n",
    "\n",
    "Also, going by the value of different features of sample points (as discussed in answer 1), there is an overlap of description of individual sample data points and description of the cluster centers. e.g. Sample point 2, is high user of \"frozen\" - so is the center of cluster 2. "
   ]
  },
  {
   "cell_type": "markdown",
   "metadata": {},
   "source": [
    "## Conclusion"
   ]
  },
  {
   "cell_type": "markdown",
   "metadata": {},
   "source": [
    "In this final section, you will investigate ways that you can make use of the clustered data. First, you will consider how the different groups of customers, the ***customer segments***, may be affected differently by a specific delivery scheme. Next, you will consider how giving a label to each customer (which *segment* that customer belongs to) can provide for additional features about the customer data. Finally, you will compare the ***customer segments*** to a hidden variable present in the data, to see whether the clustering identified certain relationships."
   ]
  },
  {
   "cell_type": "markdown",
   "metadata": {
    "collapsed": true
   },
   "source": [
    "### Question 10\n",
    "Companies will often run [A/B tests](https://en.wikipedia.org/wiki/A/B_testing) when making small changes to their products or services to determine whether making that change will affect its customers positively or negatively. The wholesale distributor is considering changing its delivery service from currently 5 days a week to 3 days a week. However, the distributor will only make this change in delivery service for customers that react positively. *How can the wholesale distributor use the customer segments to determine which customers, if any, would react positively to the change in delivery service?*  \n",
    "**Hint:** Can we assume the change affects all customers equally? How can we determine which group of customers it affects the most?"
   ]
  },
  {
   "cell_type": "markdown",
   "metadata": {},
   "source": [
    "**Answer:**\n",
    "\n",
    "A/B testing is a scientific way to understand real world impact for changing a particular variable in the environment. Name \"A/B\" is derived from fact that there are generally two groups - Control group (or group \"A\") and Test group (or group \"B\"). Now experimental variable is changed for test group and response (performance metrics) are compared for both groups to study impact. \n",
    "\n",
    "Designing A/B experiment: \n",
    "\n",
    "Experimental variable: \n",
    "In above use case where wholesale distributor want to test for delivery service frequency in a week, Experimental variable would be \"delivery options per week\". For Control group we will keep it as current level (which is 5) and for test group we will reduce it (to 3).\n",
    "\n",
    "Control and Test Group: \n",
    "\n",
    "Different cluster of customers will behave differently for the changes in delivery options. Assuming that shelf life of frozen products is sufficiently higher than milk and fresh products. Reducing number of delivery days may affect the cluster 0 (who requires high frequency supply for the milk and fresh products) more prominently as compared to cluster 1 (who can procure and hold on to Frozen supply for one more day - assuming these customers already have required refrigeration support).\n",
    "\n",
    "Having said that, we need to ensure both control and test groups are homogenous to avoid any bias creeping in due to biased composition of the groups. One possible option would be to treat these two clusters as independent and run two set of A/B experimentation - one for cluster 0 and one for cluster 1. \n",
    "\n",
    "\n",
    "Performance Metrics and Hypothesis: \n",
    "\n",
    "Now we study the performance metrics (may be avg monthly spendings and/or churn rate within each group). Lets say for each set of clusters (cluster 0 and cluster 1), \n",
    "\n",
    "Null hypothesis (H0): avg monthly spendings for both control (delivery frequency = 5) and test groups (delivery frequency = 3) remain same. \n",
    "Alternate hypothesis (H1): avg monthly spendings for control (delivery frequency = 5) is more than test groups (delivery frequency = 3).\n",
    "\n",
    "OR / AND\n",
    "\n",
    "Null hypothesis (H0): Monthly churn rate for both control (delivery frequency = 5) and test groups (delivery frequency = 3) remain same. \n",
    "Alternate hypothesis (H1): Monthly churn rate for control (delivery frequency = 5) is more than test groups (delivery frequency = 3).\n",
    "\n",
    "Test statistics: \n",
    "\n",
    "assuming spendings within control (c) and test groups (t) are normally distributed, test statics would be: \n",
    "z = (avg(c) - avg (t))/ sqrt (std. dev (c)^2/no.of_observation(c) + std. dev (t)^2/no.of_observation(t))\n",
    "\n",
    "Reference: http://multithreaded.stitchfix.com/blog/2015/05/26/significant-sample/\n",
    "\n",
    "Significance levels and cutoffs: \n",
    "\n",
    "We need to ensure that difference in the control and test group performance is statistically significant - given inherent variation within control and test groups. \n",
    "\n",
    "e.g. if z > 0 with 95% (or 90% depending on required confidance level), we take that H1 is true and delivery frequency does infact affects average monthly spending.\n",
    "\n",
    "\n",
    "Test statistics for two clusters (cluster 0 and cluster 1) will help us understand the impact of delivery days. e.g. If test group is negatively affected for any cluster then:\n",
    "- avg monthly spending will go down (which means customers are partially buying from somewhere else) and/or \n",
    "- churn rate will increase (customers are moving to competitor altogether).\n",
    "\n",
    "\n",
    "\n",
    " \n",
    "\n"
   ]
  },
  {
   "cell_type": "markdown",
   "metadata": {},
   "source": [
    "### Question 11\n",
    "Additional structure is derived from originally unlabeled data when using clustering techniques. Since each customer has a ***customer segment*** it best identifies with (depending on the clustering algorithm applied), we can consider *'customer segment'* as an **engineered feature** for the data. Assume the wholesale distributor recently acquired ten new customers and each provided estimates for anticipated annual spending of each product category. Knowing these estimates, the wholesale distributor wants to classify each new customer to a ***customer segment*** to determine the most appropriate delivery service.  \n",
    "*How can the wholesale distributor label the new customers using only their estimated product spending and the* ***customer segment*** *data?*  \n",
    "**Hint:** A supervised learner could be used to train on the original customers. What would be the target variable?"
   ]
  },
  {
   "cell_type": "markdown",
   "metadata": {},
   "source": [
    "**Answer:**\n",
    "One way of doing so would be to assign them to the cluster for which expected spending vector across categories is closet to the cluster center. \n",
    "\n",
    "Alternatively, we can also use a supervised learner (like decision tree) with can be trained on original data. Target variable (label) would be the cluster id. "
   ]
  },
  {
   "cell_type": "markdown",
   "metadata": {},
   "source": [
    "### Visualizing Underlying Distributions\n",
    "\n",
    "At the beginning of this project, it was discussed that the `'Channel'` and `'Region'` features would be excluded from the dataset so that the customer product categories were emphasized in the analysis. By reintroducing the `'Channel'` feature to the dataset, an interesting structure emerges when considering the same PCA dimensionality reduction applied earlier to the original dataset.\n",
    "\n",
    "Run the code block below to see how each data point is labeled either `'HoReCa'` (Hotel/Restaurant/Cafe) or `'Retail'` the reduced space. In addition, you will find the sample points are circled in the plot, which will identify their labeling."
   ]
  },
  {
   "cell_type": "code",
   "execution_count": null,
   "metadata": {
    "collapsed": true,
    "scrolled": false
   },
   "outputs": [],
   "source": [
    "# Display the clustering results based on 'Channel' data\n",
    "vs.channel_results(reduced_data, outliers, pca_samples)"
   ]
  },
  {
   "cell_type": "markdown",
   "metadata": {},
   "source": [
    "### Question 12\n",
    "*How well does the clustering algorithm and number of clusters you've chosen compare to this underlying distribution of Hotel/Restaurant/Cafe customers to Retailer customers? Are there customer segments that would be classified as purely 'Retailers' or 'Hotels/Restaurants/Cafes' by this distribution? Would you consider these classifications as consistent with your previous definition of the customer segments?*"
   ]
  },
  {
   "cell_type": "markdown",
   "metadata": {},
   "source": [
    "**Answer:**\n",
    "\n",
    "The number of clusters (=2) produced by the algorithm matches the number of channels (2 - HoReCa and Retail), so it seems like analysis is quite relevent. \n",
    "\n",
    "Some points in the middle of distribution might be mis-classified by algorithm, cluster 0 in above analysis resembles closely to a “retailer”. This cluster is heavy user of (milk, grocery and detergent_paper), average/median user for (delicatessen) and light user of (Fresh, frozen). \n",
    "\n",
    "cluster 1 is clearly \"Hotel/Restaurants/Cafes\". This cluster is heavy user of (Frozen), average/median user of (Fresh) and light user of (milk, grocery, detergent_paper, delicate).  \n",
    "\n",
    "This supports the prediction of types of customer in each segment, It looks that clustering algorithm did a reasonable job of categorising these customers according to broad channel of business.\n",
    "\n",
    "\n",
    "\n"
   ]
  },
  {
   "cell_type": "markdown",
   "metadata": {},
   "source": [
    "> **Note**: Once you have completed all of the code implementations and successfully answered each question above, you may finalize your work by exporting the iPython Notebook as an HTML document. You can do this by using the menu above and navigating to  \n",
    "**File -> Download as -> HTML (.html)**. Include the finished document along with this notebook as your submission."
   ]
  }
 ],
 "metadata": {
  "kernelspec": {
   "display_name": "Python 2",
   "language": "python",
   "name": "python2"
  },
  "language_info": {
   "codemirror_mode": {
    "name": "ipython",
    "version": 2
   },
   "file_extension": ".py",
   "mimetype": "text/x-python",
   "name": "python",
   "nbconvert_exporter": "python",
   "pygments_lexer": "ipython2",
   "version": "2.7.13"
  }
 },
 "nbformat": 4,
 "nbformat_minor": 1
}
